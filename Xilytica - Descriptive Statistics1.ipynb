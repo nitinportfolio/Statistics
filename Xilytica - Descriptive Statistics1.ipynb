{
 "cells": [
  {
   "cell_type": "markdown",
   "metadata": {},
   "source": [
    "# Central Tendency\n",
    "1. Mean\n",
    "2. Mode\n",
    "3. Median\n",
    "\n",
    "# Measure of Dispersion\n",
    "1. Range\n",
    "2. Standard Deviation\n",
    "3. Variance\n",
    "4. Quartiles"
   ]
  },
  {
   "cell_type": "code",
   "execution_count": 2,
   "metadata": {},
   "outputs": [],
   "source": [
    "import numpy as np\n",
    "import pandas as pd\n",
    "import matplotlib.pyplot as plt\n",
    "import seaborn as sns\n",
    "from scipy import stats\n",
    "import statistics as st\n",
    "from scipy.stats import binom\n",
    "from scipy.stats import poisson\n",
    "from scipy.stats import norm"
   ]
  },
  {
   "cell_type": "code",
   "execution_count": 3,
   "metadata": {},
   "outputs": [],
   "source": [
    "nums = [1,2,3,3,3,4,5,6,6,6,6,6,7,8,11,44,77]"
   ]
  },
  {
   "cell_type": "code",
   "execution_count": 4,
   "metadata": {},
   "outputs": [
    {
     "name": "stdout",
     "output_type": "stream",
     "text": [
      "198\n"
     ]
    }
   ],
   "source": [
    "# sum of numbers\n",
    "summ = sum(nums)\n",
    "print(summ)"
   ]
  },
  {
   "cell_type": "code",
   "execution_count": 5,
   "metadata": {},
   "outputs": [
    {
     "name": "stdout",
     "output_type": "stream",
     "text": [
      "17\n"
     ]
    }
   ],
   "source": [
    "# number of elements in the list \n",
    "lenn = len(nums)\n",
    "print(lenn)"
   ]
  },
  {
   "cell_type": "code",
   "execution_count": 6,
   "metadata": {},
   "outputs": [
    {
     "data": {
      "text/plain": [
       "5"
      ]
     },
     "execution_count": 6,
     "metadata": {},
     "output_type": "execute_result"
    }
   ],
   "source": [
    "# How many times 6 is repeated\n",
    "nums.count(6)"
   ]
  },
  {
   "cell_type": "code",
   "execution_count": 7,
   "metadata": {},
   "outputs": [
    {
     "name": "stdout",
     "output_type": "stream",
     "text": [
      "11.647058823529411\n"
     ]
    }
   ],
   "source": [
    "myavg = summ/lenn\n",
    "print(myavg)"
   ]
  },
  {
   "cell_type": "code",
   "execution_count": 8,
   "metadata": {},
   "outputs": [
    {
     "data": {
      "text/plain": [
       "11.647058823529411"
      ]
     },
     "execution_count": 8,
     "metadata": {},
     "output_type": "execute_result"
    }
   ],
   "source": [
    "import numpy as np\n",
    "np.mean(nums)"
   ]
  },
  {
   "cell_type": "code",
   "execution_count": 9,
   "metadata": {},
   "outputs": [],
   "source": [
    "# For statistics we will import package statistics\n",
    "import statistics as st"
   ]
  },
  {
   "cell_type": "code",
   "execution_count": 10,
   "metadata": {},
   "outputs": [
    {
     "data": {
      "text/plain": [
       "11.647058823529411"
      ]
     },
     "execution_count": 10,
     "metadata": {},
     "output_type": "execute_result"
    }
   ],
   "source": [
    "st.mean(nums)"
   ]
  },
  {
   "cell_type": "code",
   "execution_count": 11,
   "metadata": {},
   "outputs": [
    {
     "data": {
      "text/plain": [
       "6.0"
      ]
     },
     "execution_count": 11,
     "metadata": {},
     "output_type": "execute_result"
    }
   ],
   "source": [
    "# Finding out median of the nums\n",
    "np.median(nums)"
   ]
  },
  {
   "cell_type": "code",
   "execution_count": 12,
   "metadata": {},
   "outputs": [
    {
     "data": {
      "text/plain": [
       "6"
      ]
     },
     "execution_count": 12,
     "metadata": {},
     "output_type": "execute_result"
    }
   ],
   "source": [
    "# Using statistics package\n",
    "st.median(nums)"
   ]
  },
  {
   "cell_type": "code",
   "execution_count": 13,
   "metadata": {},
   "outputs": [
    {
     "data": {
      "text/plain": [
       "6"
      ]
     },
     "execution_count": 13,
     "metadata": {},
     "output_type": "execute_result"
    }
   ],
   "source": [
    "# Find out the mode of nums\n",
    "st.mode(nums)"
   ]
  },
  {
   "cell_type": "code",
   "execution_count": 14,
   "metadata": {},
   "outputs": [
    {
     "data": {
      "text/plain": [
       "ModeResult(mode=array([6]), count=array([5]))"
      ]
     },
     "execution_count": 14,
     "metadata": {},
     "output_type": "execute_result"
    }
   ],
   "source": [
    "stats.mode(nums)"
   ]
  },
  {
   "cell_type": "code",
   "execution_count": 15,
   "metadata": {},
   "outputs": [],
   "source": [
    "vals,counts = np.unique(nums, return_counts=True)"
   ]
  },
  {
   "cell_type": "code",
   "execution_count": 16,
   "metadata": {},
   "outputs": [
    {
     "data": {
      "text/plain": [
       "array([ 1,  2,  3,  4,  5,  6,  7,  8, 11, 44, 77])"
      ]
     },
     "execution_count": 16,
     "metadata": {},
     "output_type": "execute_result"
    }
   ],
   "source": [
    "vals"
   ]
  },
  {
   "cell_type": "code",
   "execution_count": 17,
   "metadata": {},
   "outputs": [
    {
     "data": {
      "text/plain": [
       "array([1, 1, 3, 1, 1, 5, 1, 1, 1, 1, 1], dtype=int64)"
      ]
     },
     "execution_count": 17,
     "metadata": {},
     "output_type": "execute_result"
    }
   ],
   "source": [
    "counts"
   ]
  },
  {
   "cell_type": "code",
   "execution_count": 20,
   "metadata": {},
   "outputs": [
    {
     "data": {
      "text/html": [
       "<div>\n",
       "<style scoped>\n",
       "    .dataframe tbody tr th:only-of-type {\n",
       "        vertical-align: middle;\n",
       "    }\n",
       "\n",
       "    .dataframe tbody tr th {\n",
       "        vertical-align: top;\n",
       "    }\n",
       "\n",
       "    .dataframe thead th {\n",
       "        text-align: right;\n",
       "    }\n",
       "</style>\n",
       "<table border=\"1\" class=\"dataframe\">\n",
       "  <thead>\n",
       "    <tr style=\"text-align: right;\">\n",
       "      <th></th>\n",
       "      <th>vals</th>\n",
       "      <th>counts</th>\n",
       "    </tr>\n",
       "  </thead>\n",
       "  <tbody>\n",
       "    <tr>\n",
       "      <th>0</th>\n",
       "      <td>1</td>\n",
       "      <td>1</td>\n",
       "    </tr>\n",
       "    <tr>\n",
       "      <th>1</th>\n",
       "      <td>2</td>\n",
       "      <td>1</td>\n",
       "    </tr>\n",
       "    <tr>\n",
       "      <th>2</th>\n",
       "      <td>3</td>\n",
       "      <td>3</td>\n",
       "    </tr>\n",
       "    <tr>\n",
       "      <th>3</th>\n",
       "      <td>4</td>\n",
       "      <td>1</td>\n",
       "    </tr>\n",
       "    <tr>\n",
       "      <th>4</th>\n",
       "      <td>5</td>\n",
       "      <td>1</td>\n",
       "    </tr>\n",
       "    <tr>\n",
       "      <th>5</th>\n",
       "      <td>6</td>\n",
       "      <td>5</td>\n",
       "    </tr>\n",
       "    <tr>\n",
       "      <th>6</th>\n",
       "      <td>7</td>\n",
       "      <td>1</td>\n",
       "    </tr>\n",
       "    <tr>\n",
       "      <th>7</th>\n",
       "      <td>8</td>\n",
       "      <td>1</td>\n",
       "    </tr>\n",
       "    <tr>\n",
       "      <th>8</th>\n",
       "      <td>11</td>\n",
       "      <td>1</td>\n",
       "    </tr>\n",
       "    <tr>\n",
       "      <th>9</th>\n",
       "      <td>44</td>\n",
       "      <td>1</td>\n",
       "    </tr>\n",
       "    <tr>\n",
       "      <th>10</th>\n",
       "      <td>77</td>\n",
       "      <td>1</td>\n",
       "    </tr>\n",
       "  </tbody>\n",
       "</table>\n",
       "</div>"
      ],
      "text/plain": [
       "    vals  counts\n",
       "0      1       1\n",
       "1      2       1\n",
       "2      3       3\n",
       "3      4       1\n",
       "4      5       1\n",
       "5      6       5\n",
       "6      7       1\n",
       "7      8       1\n",
       "8     11       1\n",
       "9     44       1\n",
       "10    77       1"
      ]
     },
     "execution_count": 20,
     "metadata": {},
     "output_type": "execute_result"
    }
   ],
   "source": [
    "pd.DataFrame({'values':vals, 'counts':counts})"
   ]
  },
  {
   "cell_type": "code",
   "execution_count": 16,
   "metadata": {},
   "outputs": [
    {
     "name": "stdout",
     "output_type": "stream",
     "text": [
      "76\n"
     ]
    }
   ],
   "source": [
    "# Finding the range \n",
    "num_range = max(nums) - min(nums)\n",
    "print(num_range)"
   ]
  },
  {
   "cell_type": "markdown",
   "metadata": {},
   "source": [
    "When the data size is small, one would want to use the standard deviation formula with Bessel’s correction (N-1 instead of N) for calculation purpose. For statistics package, one would want to use stdev method. For Numpy std() method, you would want to pass the parameter ddof as 1. When the data size is decently large enough, one could use default std() method of Numpy or pstdev() method of statistics package."
   ]
  },
  {
   "cell_type": "code",
   "execution_count": 17,
   "metadata": {},
   "outputs": [
    {
     "data": {
      "text/plain": [
       "19.43881804685726"
      ]
     },
     "execution_count": 17,
     "metadata": {},
     "output_type": "execute_result"
    }
   ],
   "source": [
    "# Standard deviation for sample\n",
    "st.stdev(nums)"
   ]
  },
  {
   "cell_type": "code",
   "execution_count": 18,
   "metadata": {},
   "outputs": [
    {
     "data": {
      "text/plain": [
       "18.858423539848303"
      ]
     },
     "execution_count": 18,
     "metadata": {},
     "output_type": "execute_result"
    }
   ],
   "source": [
    "st.pstdev(nums)"
   ]
  },
  {
   "cell_type": "code",
   "execution_count": 19,
   "metadata": {},
   "outputs": [
    {
     "data": {
      "text/plain": [
       "18.858423539848303"
      ]
     },
     "execution_count": 19,
     "metadata": {},
     "output_type": "execute_result"
    }
   ],
   "source": [
    "# Standard deviation for population\n",
    "np.std(nums)"
   ]
  },
  {
   "cell_type": "code",
   "execution_count": 20,
   "metadata": {},
   "outputs": [
    {
     "data": {
      "text/plain": [
       "19.43881804685726"
      ]
     },
     "execution_count": 20,
     "metadata": {},
     "output_type": "execute_result"
    }
   ],
   "source": [
    "# Standard deviation for sample- ddof  delta degree of freedom\n",
    "np.std(nums, ddof=1)"
   ]
  },
  {
   "cell_type": "code",
   "execution_count": 21,
   "metadata": {},
   "outputs": [
    {
     "data": {
      "text/plain": [
       "355.64013840830455"
      ]
     },
     "execution_count": 21,
     "metadata": {},
     "output_type": "execute_result"
    }
   ],
   "source": [
    "# Calculating variance for population\n",
    "np.var(nums)"
   ]
  },
  {
   "cell_type": "code",
   "execution_count": 22,
   "metadata": {},
   "outputs": [
    {
     "data": {
      "text/plain": [
       "377.8676470588236"
      ]
     },
     "execution_count": 22,
     "metadata": {},
     "output_type": "execute_result"
    }
   ],
   "source": [
    "# Calculating variance using numpy ddof = 1 for sample\n",
    "np.var(nums, ddof = 1)"
   ]
  },
  {
   "cell_type": "code",
   "execution_count": 23,
   "metadata": {},
   "outputs": [
    {
     "data": {
      "text/plain": [
       "377.8676470588236"
      ]
     },
     "execution_count": 23,
     "metadata": {},
     "output_type": "execute_result"
    }
   ],
   "source": [
    "# Calculating variance for sample\n",
    "st.variance(nums)\n"
   ]
  },
  {
   "cell_type": "code",
   "execution_count": 24,
   "metadata": {},
   "outputs": [
    {
     "data": {
      "text/plain": [
       "355.64013840830455"
      ]
     },
     "execution_count": 24,
     "metadata": {},
     "output_type": "execute_result"
    }
   ],
   "source": [
    "# Calculating variance for population\n",
    "st.pvariance(nums)"
   ]
  },
  {
   "cell_type": "code",
   "execution_count": 25,
   "metadata": {},
   "outputs": [
    {
     "data": {
      "text/plain": [
       "6.0"
      ]
     },
     "execution_count": 25,
     "metadata": {},
     "output_type": "execute_result"
    }
   ],
   "source": [
    "# Calculating Quantiles\n",
    "# 50th quantile - median\n",
    "np.quantile(nums,  0.5)"
   ]
  },
  {
   "cell_type": "code",
   "execution_count": 26,
   "metadata": {},
   "outputs": [
    {
     "data": {
      "text/plain": [
       "3.0"
      ]
     },
     "execution_count": 26,
     "metadata": {},
     "output_type": "execute_result"
    }
   ],
   "source": [
    "np.quantile(nums, .25)"
   ]
  },
  {
   "cell_type": "code",
   "execution_count": 27,
   "metadata": {},
   "outputs": [
    {
     "data": {
      "text/plain": [
       "77.0"
      ]
     },
     "execution_count": 27,
     "metadata": {},
     "output_type": "execute_result"
    }
   ],
   "source": [
    "np.quantile(nums,1)"
   ]
  },
  {
   "cell_type": "code",
   "execution_count": 28,
   "metadata": {},
   "outputs": [
    {
     "data": {
      "text/plain": [
       "4.0"
      ]
     },
     "execution_count": 28,
     "metadata": {},
     "output_type": "execute_result"
    }
   ],
   "source": [
    "# Interquartile = IQR = Q3-Q1\n",
    "np.percentile(nums, 75) - np.percentile(nums, 25)"
   ]
  },
  {
   "cell_type": "code",
   "execution_count": 29,
   "metadata": {},
   "outputs": [
    {
     "name": "stdout",
     "output_type": "stream",
     "text": [
      "4.0\n"
     ]
    }
   ],
   "source": [
    "from scipy import stats\n",
    "IQR = stats.iqr(nums)\n",
    "print(IQR)"
   ]
  },
  {
   "cell_type": "code",
   "execution_count": 7,
   "metadata": {},
   "outputs": [],
   "source": [
    "mylist = [100, 120, 140, 124, 133, 144, 70, 80, 95, 109, 160,161]"
   ]
  },
  {
   "cell_type": "code",
   "execution_count": 8,
   "metadata": {},
   "outputs": [
    {
     "data": {
      "text/plain": [
       "[70, 80, 95, 100, 109, 120, 124, 133, 140, 144, 160, 161]"
      ]
     },
     "execution_count": 8,
     "metadata": {},
     "output_type": "execute_result"
    }
   ],
   "source": [
    "mylist.sort()\n",
    "mylist"
   ]
  },
  {
   "cell_type": "code",
   "execution_count": 13,
   "metadata": {},
   "outputs": [
    {
     "data": {
      "text/plain": [
       "0.75"
      ]
     },
     "execution_count": 13,
     "metadata": {},
     "output_type": "execute_result"
    }
   ],
   "source": [
    "9/12"
   ]
  },
  {
   "cell_type": "code",
   "execution_count": 9,
   "metadata": {},
   "outputs": [
    {
     "name": "stdout",
     "output_type": "stream",
     "text": [
      "98.75\n"
     ]
    }
   ],
   "source": [
    "# Find out Quantiles\n",
    "import numpy as np\n",
    "q1 = np.quantile(mylist, .25)\n",
    "print(q1)"
   ]
  },
  {
   "cell_type": "code",
   "execution_count": 10,
   "metadata": {},
   "outputs": [
    {
     "name": "stdout",
     "output_type": "stream",
     "text": [
      "141.0\n"
     ]
    }
   ],
   "source": [
    "q3 = np.quantile(mylist, .75)\n",
    "print(q3)"
   ]
  },
  {
   "cell_type": "code",
   "execution_count": 11,
   "metadata": {},
   "outputs": [],
   "source": [
    "q = np.quantile(mylist, [.25,.50,.75])"
   ]
  },
  {
   "cell_type": "code",
   "execution_count": 12,
   "metadata": {},
   "outputs": [
    {
     "name": "stdout",
     "output_type": "stream",
     "text": [
      "[ 98.75 122.   141.  ]\n"
     ]
    }
   ],
   "source": [
    "print(q)"
   ]
  },
  {
   "cell_type": "code",
   "execution_count": 36,
   "metadata": {},
   "outputs": [],
   "source": [
    "import matplotlib.pyplot as plt\n",
    "import seaborn as sns"
   ]
  },
  {
   "cell_type": "code",
   "execution_count": 37,
   "metadata": {},
   "outputs": [
    {
     "data": {
      "text/plain": [
       "<matplotlib.axes._subplots.AxesSubplot at 0x179038c6e88>"
      ]
     },
     "execution_count": 37,
     "metadata": {},
     "output_type": "execute_result"
    },
    {
     "data": {
      "image/png": "[encoded data removed]",
      "text/plain": [
       "<Figure size 432x288 with 1 Axes>"
      ]
     },
     "metadata": {
      "needs_background": "light"
     },
     "output_type": "display_data"
    }
   ],
   "source": [
    "sns.boxplot(mylist)"
   ]
  },
  {
   "cell_type": "code",
   "execution_count": 38,
   "metadata": {},
   "outputs": [
    {
     "data": {
      "text/plain": [
       "array([ 1.        ,  7.33333333, 13.66666667, 20.        ])"
      ]
     },
     "execution_count": 38,
     "metadata": {},
     "output_type": "execute_result"
    }
   ],
   "source": [
    "# line Space\n",
    "np.linspace(1,20,4)"
   ]
  },
  {
   "cell_type": "markdown",
   "metadata": {},
   "source": [
    "# Understanding Probability Concepts "
   ]
  },
  {
   "cell_type": "code",
   "execution_count": 39,
   "metadata": {},
   "outputs": [],
   "source": [
    "# Head - if number is less than 0.5\n",
    "# Tail - if number is greater or equal to 0.5\n"
   ]
  },
  {
   "cell_type": "code",
   "execution_count": 3,
   "metadata": {},
   "outputs": [
    {
     "data": {
      "text/plain": [
       "0.0665987761813428"
      ]
     },
     "execution_count": 3,
     "metadata": {},
     "output_type": "execute_result"
    }
   ],
   "source": [
    "np.random.rand()"
   ]
  },
  {
   "cell_type": "code",
   "execution_count": 17,
   "metadata": {},
   "outputs": [
    {
     "data": {
      "text/plain": [
       "0.07630828937395717"
      ]
     },
     "execution_count": 17,
     "metadata": {},
     "output_type": "execute_result"
    }
   ],
   "source": [
    "# To get same number again and again\n",
    "np.random.seed(7)\n",
    "np.random.rand()"
   ]
  },
  {
   "cell_type": "code",
   "execution_count": 10,
   "metadata": {},
   "outputs": [],
   "source": [
    "def Tossing_coin():\n",
    "    num = np.random.rand()\n",
    "    if num < 0.5:\n",
    "        print(num)\n",
    "        print('HEAD')\n",
    "    else:\n",
    "        print(num)\n",
    "        print('TAIL')"
   ]
  },
  {
   "cell_type": "code",
   "execution_count": 14,
   "metadata": {},
   "outputs": [
    {
     "name": "stdout",
     "output_type": "stream",
     "text": [
      "0.9779895119966027\n",
      "TAIL\n"
     ]
    }
   ],
   "source": [
    "Tossing_coin()"
   ]
  },
  {
   "cell_type": "code",
   "execution_count": 105,
   "metadata": {},
   "outputs": [
    {
     "data": {
      "text/plain": [
       "array([0.26843898, 0.4998825 , 0.67923   , 0.80373904, 0.38094113])"
      ]
     },
     "execution_count": 105,
     "metadata": {},
     "output_type": "execute_result"
    }
   ],
   "source": [
    "# Generating 5 differnt random numbers\n",
    "np.random.rand(5)"
   ]
  },
  {
   "cell_type": "code",
   "execution_count": 106,
   "metadata": {},
   "outputs": [
    {
     "data": {
      "text/plain": [
       "array([False, False,  True, False, False])"
      ]
     },
     "execution_count": 106,
     "metadata": {},
     "output_type": "execute_result"
    }
   ],
   "source": [
    "np.random.rand(5)>0.5"
   ]
  },
  {
   "cell_type": "code",
   "execution_count": 107,
   "metadata": {},
   "outputs": [
    {
     "data": {
      "text/plain": [
       "3"
      ]
     },
     "execution_count": 107,
     "metadata": {},
     "output_type": "execute_result"
    }
   ],
   "source": [
    "# Number of tails \n",
    "sum(np.random.rand(5)>0.5)"
   ]
  },
  {
   "cell_type": "code",
   "execution_count": 108,
   "metadata": {},
   "outputs": [
    {
     "data": {
      "text/plain": [
       "array([[0.54848992, 0.90912837],\n",
       "       [0.13316945, 0.52341258],\n",
       "       [0.75040986, 0.66901324]])"
      ]
     },
     "execution_count": 108,
     "metadata": {},
     "output_type": "execute_result"
    }
   ],
   "source": [
    "# Creating a matrix of 3,2 of random numbers\n",
    "np.random.rand(3,2)"
   ]
  },
  {
   "cell_type": "code",
   "execution_count": 19,
   "metadata": {},
   "outputs": [
    {
     "data": {
      "text/plain": [
       "0"
      ]
     },
     "execution_count": 19,
     "metadata": {},
     "output_type": "execute_result"
    }
   ],
   "source": [
    "# Creating random numbers that are integers\n",
    "# This will give us random nubmer o or 1\n",
    "np.random.randint(0,2)"
   ]
  },
  {
   "cell_type": "code",
   "execution_count": 113,
   "metadata": {},
   "outputs": [
    {
     "data": {
      "text/plain": [
       "array([7, 7, 9])"
      ]
     },
     "execution_count": 113,
     "metadata": {},
     "output_type": "execute_result"
    }
   ],
   "source": [
    "np.random.randint(0,10,3)"
   ]
  },
  {
   "cell_type": "code",
   "execution_count": 114,
   "metadata": {},
   "outputs": [
    {
     "data": {
      "text/plain": [
       "array([1, 0, 1, 1, 1, 0, 1, 0, 1, 0])"
      ]
     },
     "execution_count": 114,
     "metadata": {},
     "output_type": "execute_result"
    }
   ],
   "source": [
    "# Flipping of 10 coins \n",
    "np.random.randint(0,2,10)"
   ]
  },
  {
   "cell_type": "code",
   "execution_count": 118,
   "metadata": {},
   "outputs": [
    {
     "name": "stdout",
     "output_type": "stream",
     "text": [
      "5\n"
     ]
    }
   ],
   "source": [
    "# Head = 0\n",
    "# Tails = 1\n",
    "num_tails = sum(np.random.randint(0,2,10))\n",
    "print(num_tails)"
   ]
  },
  {
   "cell_type": "code",
   "execution_count": 123,
   "metadata": {},
   "outputs": [
    {
     "data": {
      "text/plain": [
       "4"
      ]
     },
     "execution_count": 123,
     "metadata": {},
     "output_type": "execute_result"
    }
   ],
   "source": [
    "# Rolling a dice\n",
    "np.random.randint(1,7)"
   ]
  },
  {
   "cell_type": "code",
   "execution_count": 124,
   "metadata": {},
   "outputs": [
    {
     "data": {
      "text/plain": [
       "array([4, 1, 5, 4, 1, 3, 3, 4, 6, 3])"
      ]
     },
     "execution_count": 124,
     "metadata": {},
     "output_type": "execute_result"
    }
   ],
   "source": [
    "# Rolling a dice 10 times or 10 different dice\n",
    "np.random.randint(1,7,10)"
   ]
  },
  {
   "cell_type": "code",
   "execution_count": 128,
   "metadata": {},
   "outputs": [
    {
     "data": {
      "text/plain": [
       "<matplotlib.axes._subplots.AxesSubplot at 0x17905014208>"
      ]
     },
     "execution_count": 128,
     "metadata": {},
     "output_type": "execute_result"
    },
    {
     "data": {
      "image/png": "[encoded data removed]",
      "text/plain": [
       "<Figure size 432x288 with 1 Axes>"
      ]
     },
     "metadata": {},
     "output_type": "display_data"
    }
   ],
   "source": [
    "# How many times different nubmers I am getting when I roll dice 1000 times\n",
    "# histogram\n",
    "sns.set_style(\"whitegrid\")\n",
    "ax = np.random.randint(1,7,6000)\n",
    "sns.countplot(ax)"
   ]
  },
  {
   "cell_type": "markdown",
   "metadata": {},
   "source": [
    "# When two dice are rolled what is the probability of getting number greater than 9\n",
    "6,6 - 1/36\n",
    "6,5 - 1/18\n",
    "5,5 - 1/36\n",
    "1+2+1/36\n",
    "\n"
   ]
  },
  {
   "cell_type": "markdown",
   "metadata": {},
   "source": [
    "# When two dice are rolled what is the probability of getting number greater than 7\n",
    "2,6 - 2/36\n",
    "3,6 - 2/36\n",
    "3,5 - 2/36\n",
    "4,4 - 1/36\n",
    "4,5 - 2/36\n",
    "4,6 - 2/36\n",
    "5,6 - 2/36\n",
    "5,5 - 1/36\n",
    "6,6 - 1/36\n",
    "\n",
    "= 15/36 \n",
    "\n"
   ]
  },
  {
   "cell_type": "markdown",
   "metadata": {},
   "source": [
    "8 - 4,4 - 3,5 - 2,6 - 5,3 - 6,2  = 5 ways\n",
    "9 - 4,5 - 5,4 - 6,3 - 3,6  = 4 ways\n",
    "10 - 5,5 - 4,6 - 6,4 = 3 ways\n",
    "11 - 5,6 - 6,5 = 2 ways\n",
    "12 - 6,6   = 1 way\n",
    "\n",
    "totals ways of getting greater than 7 = 15 ways\n",
    "\n",
    "Total ways = \n",
    "2 - 1 way\n",
    "3 - 2 ways\n",
    "4 - 3 ways\n",
    "5 - 4 ways\n",
    "6 - 5 ways\n",
    "7 - 6 ways\n",
    "8 - 5 ways\n",
    "9 - 4 ways\n",
    "10 - 3 ways\n",
    "11 - 2 ways\n",
    "12 - 1 way\n",
    "Total ways = 36\n",
    "\n",
    "Hence probability = 15/36\n",
    "\n",
    "\n",
    "\n"
   ]
  },
  {
   "cell_type": "code",
   "execution_count": 129,
   "metadata": {},
   "outputs": [],
   "source": [
    "die1 = np.random.randint(1,7,10)\n",
    "die2 = np.random.randint(1,7,10)"
   ]
  },
  {
   "cell_type": "code",
   "execution_count": 130,
   "metadata": {},
   "outputs": [],
   "source": [
    "die_sum = die1 + die2"
   ]
  },
  {
   "cell_type": "code",
   "execution_count": 131,
   "metadata": {},
   "outputs": [
    {
     "data": {
      "text/plain": [
       "array([ 7,  9,  9,  4,  7, 12,  5,  8, 10,  8])"
      ]
     },
     "execution_count": 131,
     "metadata": {},
     "output_type": "execute_result"
    }
   ],
   "source": [
    "die_sum"
   ]
  },
  {
   "cell_type": "code",
   "execution_count": 132,
   "metadata": {},
   "outputs": [
    {
     "data": {
      "text/plain": [
       "4197"
      ]
     },
     "execution_count": 132,
     "metadata": {},
     "output_type": "execute_result"
    }
   ],
   "source": [
    "# rolling the die 10 thousand times\n",
    "die1 = np.random.randint(1,7,10000)\n",
    "die2 = np.random.randint(1,7,10000)\n",
    "die_sum = die1 + die2\n",
    "sum(die_sum >7)"
   ]
  },
  {
   "cell_type": "code",
   "execution_count": 133,
   "metadata": {},
   "outputs": [],
   "source": [
    "# If I roll die 10 thousand time than 4197 times the sum is greater than 7\n",
    "probability = 4197/10000"
   ]
  },
  {
   "cell_type": "code",
   "execution_count": 134,
   "metadata": {},
   "outputs": [
    {
     "data": {
      "text/plain": [
       "0.4197"
      ]
     },
     "execution_count": 134,
     "metadata": {},
     "output_type": "execute_result"
    }
   ],
   "source": [
    "probability "
   ]
  },
  {
   "cell_type": "code",
   "execution_count": 135,
   "metadata": {},
   "outputs": [
    {
     "data": {
      "text/plain": [
       "0.4166666666666667"
      ]
     },
     "execution_count": 135,
     "metadata": {},
     "output_type": "execute_result"
    }
   ],
   "source": [
    "15/36"
   ]
  },
  {
   "cell_type": "code",
   "execution_count": 136,
   "metadata": {},
   "outputs": [
    {
     "data": {
      "text/plain": [
       "0.75"
      ]
     },
     "execution_count": 136,
     "metadata": {},
     "output_type": "execute_result"
    }
   ],
   "source": [
    "0.12 + 0.16 + 0.01 + 0.14 + 0.11 +0.21 "
   ]
  },
  {
   "cell_type": "markdown",
   "metadata": {},
   "source": [
    "# Binomail Distribution "
   ]
  },
  {
   "cell_type": "code",
   "execution_count": 26,
   "metadata": {},
   "outputs": [
    {
     "data": {
      "text/plain": [
       "0"
      ]
     },
     "execution_count": 26,
     "metadata": {},
     "output_type": "execute_result"
    }
   ],
   "source": [
    "# Getting binomila distribution where n = 1 and probability of success is 0.5\n",
    "# Flipping one coin\n",
    "# Number of getting one head\n",
    "np.random.binomial(1, 0.5)"
   ]
  },
  {
   "cell_type": "code",
   "execution_count": 34,
   "metadata": {},
   "outputs": [
    {
     "data": {
      "text/plain": [
       "0"
      ]
     },
     "execution_count": 34,
     "metadata": {},
     "output_type": "execute_result"
    }
   ],
   "source": [
    "# Flipping 2 coins\n",
    "# Number of getting heads\n",
    "np.random.binomial(2, 0.5)"
   ]
  },
  {
   "cell_type": "code",
   "execution_count": 145,
   "metadata": {},
   "outputs": [],
   "source": [
    "# Flipping 2 coins 10000 times\n",
    "# Number of getting heads\n",
    "num_heads = np.random.binomial(2, 0.5, size = 1000)"
   ]
  },
  {
   "cell_type": "code",
   "execution_count": 146,
   "metadata": {},
   "outputs": [
    {
     "data": {
      "text/plain": [
       "array([2, 1, 1, 0, 1, 2, 1, 1, 1, 0, 2, 0, 1, 2, 0, 1, 1, 1, 1, 1, 2, 1,\n",
       "       0, 1, 2, 0, 2, 1, 1, 1, 0, 2, 1, 0, 0, 2, 0, 0, 0, 0, 0, 1, 2, 1,\n",
       "       0, 1, 0, 2, 2, 1, 1, 1, 0, 2, 1, 2, 1, 0, 1, 2, 1, 2, 2, 0, 1, 1,\n",
       "       0, 2, 2, 1, 2, 0, 1, 0, 1, 0, 1, 2, 1, 1, 1, 0, 1, 2, 1, 1, 0, 1,\n",
       "       1, 1, 2, 1, 1, 1, 1, 1, 2, 1, 1, 1, 1, 0, 2, 1, 0, 0, 0, 1, 2, 2,\n",
       "       0, 0, 1, 0, 1, 0, 1, 1, 2, 2, 1, 1, 2, 0, 2, 1, 2, 0, 1, 1, 2, 2,\n",
       "       2, 0, 0, 2, 0, 2, 1, 0, 0, 1, 1, 1, 1, 1, 0, 1, 0, 1, 2, 2, 1, 1,\n",
       "       1, 2, 0, 0, 1, 0, 0, 0, 0, 0, 0, 0, 0, 1, 0, 1, 0, 2, 2, 1, 1, 1,\n",
       "       1, 1, 1, 2, 1, 1, 1, 2, 0, 1, 1, 2, 0, 1, 1, 1, 1, 0, 2, 2, 1, 1,\n",
       "       1, 1, 1, 1, 1, 1, 1, 0, 2, 1, 1, 1, 1, 1, 1, 1, 0, 0, 2, 0, 2, 1,\n",
       "       2, 0, 0, 1, 1, 1, 1, 0, 2, 1, 0, 1, 1, 1, 1, 1, 2, 2, 1, 2, 1, 1,\n",
       "       2, 0, 1, 1, 1, 2, 1, 1, 2, 0, 2, 0, 2, 1, 0, 1, 1, 1, 1, 2, 1, 2,\n",
       "       1, 0, 1, 2, 1, 1, 0, 1, 1, 1, 1, 0, 1, 1, 1, 1, 2, 1, 1, 1, 1, 1,\n",
       "       1, 0, 2, 1, 2, 1, 2, 1, 1, 0, 1, 1, 1, 2, 1, 0, 2, 2, 1, 1, 1, 2,\n",
       "       1, 0, 1, 1, 2, 1, 1, 1, 2, 0, 1, 1, 1, 2, 2, 2, 0, 1, 0, 0, 1, 2,\n",
       "       0, 2, 0, 0, 1, 2, 1, 0, 2, 1, 1, 1, 1, 2, 2, 0, 1, 2, 1, 1, 1, 1,\n",
       "       1, 1, 1, 0, 1, 1, 0, 1, 0, 1, 0, 1, 1, 1, 1, 2, 1, 0, 1, 1, 2, 2,\n",
       "       0, 1, 0, 1, 0, 0, 1, 2, 2, 1, 2, 1, 1, 1, 1, 2, 1, 2, 1, 2, 1, 2,\n",
       "       2, 1, 1, 1, 0, 1, 1, 0, 1, 1, 2, 0, 1, 0, 0, 0, 1, 0, 1, 1, 1, 2,\n",
       "       1, 1, 1, 0, 1, 1, 2, 2, 2, 2, 1, 1, 0, 1, 2, 1, 1, 1, 0, 1, 1, 2,\n",
       "       1, 2, 1, 1, 0, 0, 2, 2, 1, 0, 0, 0, 0, 1, 2, 2, 2, 1, 2, 1, 1, 1,\n",
       "       1, 1, 2, 0, 0, 0, 1, 0, 1, 1, 1, 2, 2, 2, 0, 1, 1, 1, 0, 1, 1, 1,\n",
       "       1, 1, 1, 1, 1, 1, 1, 2, 1, 1, 0, 0, 1, 0, 0, 1, 2, 0, 1, 2, 2, 0,\n",
       "       2, 1, 1, 1, 1, 1, 1, 0, 0, 1, 0, 2, 2, 2, 2, 2, 1, 1, 2, 2, 1, 1,\n",
       "       0, 0, 2, 0, 1, 1, 2, 0, 0, 0, 0, 1, 2, 2, 0, 0, 1, 2, 2, 2, 2, 2,\n",
       "       1, 2, 1, 1, 0, 0, 1, 2, 1, 1, 1, 1, 0, 0, 2, 1, 1, 0, 0, 1, 1, 0,\n",
       "       1, 1, 0, 0, 0, 1, 1, 0, 1, 1, 2, 1, 1, 0, 0, 1, 0, 2, 0, 0, 1, 1,\n",
       "       1, 1, 1, 0, 1, 0, 1, 1, 1, 2, 1, 1, 2, 1, 1, 0, 1, 2, 2, 2, 1, 1,\n",
       "       2, 1, 1, 1, 1, 2, 1, 1, 2, 1, 0, 1, 1, 1, 2, 0, 1, 1, 0, 2, 2, 2,\n",
       "       1, 1, 2, 1, 2, 2, 1, 2, 0, 0, 0, 1, 1, 0, 1, 0, 1, 2, 0, 1, 1, 2,\n",
       "       1, 1, 1, 1, 2, 1, 1, 0, 1, 1, 0, 1, 1, 0, 1, 1, 2, 1, 0, 1, 0, 1,\n",
       "       1, 1, 1, 1, 1, 1, 2, 1, 2, 1, 1, 0, 2, 1, 1, 1, 2, 0, 1, 0, 1, 1,\n",
       "       1, 1, 1, 1, 0, 0, 2, 1, 0, 2, 1, 1, 0, 1, 1, 1, 1, 2, 1, 2, 1, 1,\n",
       "       0, 1, 1, 0, 0, 0, 1, 1, 1, 1, 2, 2, 2, 1, 0, 1, 2, 1, 1, 0, 1, 1,\n",
       "       2, 1, 1, 1, 0, 1, 1, 2, 1, 1, 0, 0, 2, 1, 0, 0, 1, 1, 1, 1, 1, 1,\n",
       "       1, 0, 2, 0, 1, 0, 2, 0, 2, 1, 1, 0, 2, 2, 0, 0, 2, 1, 0, 1, 2, 2,\n",
       "       2, 1, 2, 0, 1, 0, 2, 0, 0, 1, 2, 1, 2, 2, 2, 1, 0, 1, 1, 1, 0, 0,\n",
       "       0, 0, 1, 1, 0, 1, 1, 2, 1, 1, 2, 2, 0, 2, 2, 1, 1, 1, 2, 2, 1, 1,\n",
       "       1, 2, 1, 0, 1, 1, 0, 0, 0, 0, 1, 0, 0, 2, 2, 1, 1, 1, 1, 1, 1, 1,\n",
       "       0, 1, 0, 2, 1, 1, 1, 2, 1, 2, 0, 1, 1, 1, 2, 2, 0, 2, 2, 2, 2, 2,\n",
       "       2, 2, 1, 2, 1, 0, 2, 0, 2, 2, 1, 2, 2, 1, 1, 1, 0, 1, 0, 2, 1, 2,\n",
       "       1, 1, 1, 1, 0, 2, 2, 1, 2, 2, 1, 1, 1, 1, 2, 1, 1, 1, 1, 1, 0, 0,\n",
       "       2, 2, 0, 1, 2, 2, 1, 0, 1, 1, 1, 1, 1, 2, 2, 2, 1, 2, 2, 2, 1, 1,\n",
       "       2, 1, 2, 1, 2, 0, 0, 1, 1, 1, 1, 1, 1, 1, 2, 0, 1, 1, 0, 1, 1, 0,\n",
       "       0, 2, 1, 1, 2, 1, 2, 1, 1, 1, 0, 2, 2, 0, 1, 1, 1, 1, 1, 2, 2, 1,\n",
       "       0, 0, 1, 2, 1, 2, 1, 1, 2, 1])"
      ]
     },
     "execution_count": 146,
     "metadata": {},
     "output_type": "execute_result"
    }
   ],
   "source": [
    "num_heads"
   ]
  },
  {
   "cell_type": "code",
   "execution_count": 147,
   "metadata": {},
   "outputs": [
    {
     "data": {
      "text/plain": [
       "<matplotlib.axes._subplots.AxesSubplot at 0x179055e2788>"
      ]
     },
     "execution_count": 147,
     "metadata": {},
     "output_type": "execute_result"
    },
    {
     "data": {
      "image/png": "[encoded data removed]",
      "text/plain": [
       "<Figure size 432x288 with 1 Axes>"
      ]
     },
     "metadata": {},
     "output_type": "display_data"
    }
   ],
   "source": [
    "# probability of getting 0 head - 0.25\n",
    "# probability of getting 1 head - 0.5\n",
    "# probability of getting 2 head - 0.25\n",
    "sns.countplot(num_heads)\n"
   ]
  },
  {
   "cell_type": "code",
   "execution_count": 148,
   "metadata": {},
   "outputs": [],
   "source": [
    "# Flipping 10 coins \n",
    "# Number of getting heads\n",
    "num_heads = np.random.binomial(10, 0.5, size = 1000)"
   ]
  },
  {
   "cell_type": "code",
   "execution_count": 149,
   "metadata": {},
   "outputs": [
    {
     "data": {
      "text/plain": [
       "<matplotlib.axes._subplots.AxesSubplot at 0x179056cf748>"
      ]
     },
     "execution_count": 149,
     "metadata": {},
     "output_type": "execute_result"
    },
    {
     "data": {
      "image/png": "[encoded data removed]",
      "text/plain": [
       "<Figure size 432x288 with 1 Axes>"
      ]
     },
     "metadata": {},
     "output_type": "display_data"
    }
   ],
   "source": [
    "# probability of getting 0 head - 0.25\n",
    "# probability of getting 1 head - 0.5\n",
    "# probability of getting 2 head - 0.25\n",
    "sns.countplot(num_heads)"
   ]
  },
  {
   "cell_type": "code",
   "execution_count": 150,
   "metadata": {},
   "outputs": [],
   "source": [
    "# A manufacturer has 15% defective rate in production. The buyer decides to test 20 random pieces  & will accept \n",
    "# the supplier if there are 2 or less defectives. What is the probability  of getting accepted?"
   ]
  },
  {
   "cell_type": "code",
   "execution_count": 151,
   "metadata": {},
   "outputs": [],
   "source": [
    "two_rej = np.random.binomial(20, 0.15, 10)"
   ]
  },
  {
   "cell_type": "code",
   "execution_count": 152,
   "metadata": {},
   "outputs": [
    {
     "name": "stdout",
     "output_type": "stream",
     "text": [
      "[7 2 6 4 0 2 1 3 1 2]\n"
     ]
    }
   ],
   "source": [
    "# When we run it 1st time we got 7 defective items\n",
    "# When we run it 2nd time we got 2 defective items\n",
    "# 10th time we got 2 defective items\n",
    "print(two_rej)"
   ]
  },
  {
   "cell_type": "code",
   "execution_count": 153,
   "metadata": {},
   "outputs": [
    {
     "name": "stdout",
     "output_type": "stream",
     "text": [
      "[2 3 2 1 1 3 4 4 2 2 0 5 5 4 4 2 5 4 3 3 2 3 3 5 3 3 1 4 6 3 1 6 5 3 2 5 3\n",
      " 6 3 3 2 3 1 1 4 2 5 2 1 2 0 3 3 4 5 6 2 0 4 4 7 3 4 5 2 5 3 2 4 4 2 3 3 3\n",
      " 2 0 2 3 3 1 4 1 4 2 5 4 2 3 7 1 3 2 2 4 5 3 3 1 2 4 1 5 3 5 3 3 5 2 4 4 2\n",
      " 1 4 1 3 3 2 3 2 5 3 3 4 1 3 4 3 3 4 4 2 2 2 1 2 4 0 4 0 3 2 1 3 1 2 1 2 3\n",
      " 3 7 2 3 4 2 5 4 3 2 3 4 3 2 1 4 4 1 1 4 3 4 0 2 5 1 6 1 5 3 4 1 0 4 4 2 3\n",
      " 5 2 2 4 1 6 4 4 0 1 2 3 6 1 1 1 3 1 4 1 2 1 4 4 4 2 3 5 0 2 4 4 1 3 5 5 3\n",
      " 1 3 2 1 3 6 2 3 3 6 5 1 3 5 2 1 2 2 0 3 6 1 1 4 1 5 7 6 2 3 3 3 3 6 2 7 4\n",
      " 5 6 4 4 7 2 2 4 2 3 4 5 2 5 5 5 1 3 5 4 5 5 2 5 4 0 3 2 2 5 3 4 1 2 3 2 4\n",
      " 2 2 4 3 4 5 2 2 0 4 6 5 5 3 3 3 4 2 3 6 3 3 2 0 2 2 2 2 3 6 3 3 3 0 2 4 6\n",
      " 1 2 3 3 3 2 1 6 2 4 2 1 3 2 1 5 3 1 0 2 0 2 3 2 4 3 1 3 2 2 3 2 3 6 3 6 2\n",
      " 6 4 5 2 0 4 2 3 4 2 1 0 6 3 1 2 5 3 0 2 4 1 2 3 6 3 9 4 3 3 4 2 4 3 3 3 2\n",
      " 5 3 2 5 1 3 1 4 3 5 1 4 4 2 1 3 4 1 0 2 5 2 3 4 4 1 1 3 3 2 4 5 4 3 5 3 5\n",
      " 3 3 1 3 3 2 3 3 7 3 1 0 2 3 2 2 4 5 1 3 4 5 3 3 6 3 3 5 4 2 1 4 4 4 2 6 2\n",
      " 3 4 0 2 2 5 2 6 4 2 5 1 5 3 4 4 4 2 7 2 3 4 5 2 3 4 6 4 4 3 4 4 2 4 5 4 2\n",
      " 6 6 3 0 3 5 2 4 3 1 4 5 1 3 1 4 3 1 5 5 2 1 2 7 2 2 3 5 3 7 2 3 3 8 2 4 1\n",
      " 4 4 4 4 8 4 4 3 4 7 0 1 3 2 4 2 3 3 0 4 4 0 2 7 2 1 1 1 6 2 3 4 3 3 4 3 2\n",
      " 2 5 1 2 1 2 6 2 4 3 4 4 4 6 5 3 3 3 4 1 2 2 3 1 2 5 2 5 0 4 3 3 6 3 3 2 3\n",
      " 2 3 3 5 2 2 2 5 2 2 4 2 7 3 6 4 2 3 2 2 4 3 5 1 3 3 1 4 4 7 2 3 0 5 4 4 3\n",
      " 1 3 2 3 2 5 2 4 6 2 5 6 2 4 4 3 3 3 5 3 3 4 2 3 2 3 2 3 0 6 5 4 3 5 3 5 2\n",
      " 4 4 1 0 3 1 3 5 4 5 4 2 2 7 4 2 1 3 1 2 3 2 3 2 5 2 2 2 5 4 6 3 4 3 2 1 4\n",
      " 4 3 3 2 3 1 2 2 5 4 2 3 2 2 1 2 1 8 1 2 2 1 5 2 5 2 5 5 5 3 2 3 3 2 1 3 5\n",
      " 2 3 5 2 2 3 3 3 0 4 2 2 2 1 4 2 0 3 3 2 4 2 8 5 1 1 2 4 4 4 2 2 3 3 7 4 5\n",
      " 4 2 6 2 3 2 5 0 1 3 0 3 4 0 4 2 2 2 2 4 3 5 4 1 6 1 1 4 2 5 3 2 3 1 1 3 2\n",
      " 4 0 3 4 2 2 3 2 1 3 6 2 1 1 4 1 4 2 4 3 2 1 1 4 3 4 6 3 4 6 0 3 1 1 6 5 3\n",
      " 3 6 2 2 0 4 5 1 2 3 3 5 2 7 2 0 2 4 3 4 4 2 5 4 5 2 3 4 1 3 1 5 1 1 4 2 0\n",
      " 2 5 3 3 3 4 3 5 2 2 3 2 2 6 2 3 3 2 4 5 7 4 2 4 2 2 4 5 4 4 2 1 5 6 3 3 2\n",
      " 5 3 4 0 4 2 5 2 3 2 2 2 4 0 1 1 4 1 3 2 2 3 4 4 3 3 2 4 1 6 3 2 2 3 1 1 5\n",
      " 2]\n"
     ]
    }
   ],
   "source": [
    "# Running this experiment 1000 times\n",
    "two_rej = np.random.binomial(20, 0.15, 1000)\n",
    "print(two_rej)"
   ]
  },
  {
   "cell_type": "code",
   "execution_count": 154,
   "metadata": {},
   "outputs": [
    {
     "data": {
      "text/plain": [
       "<matplotlib.axes._subplots.AxesSubplot at 0x17904b8bf88>"
      ]
     },
     "execution_count": 154,
     "metadata": {},
     "output_type": "execute_result"
    },
    {
     "data": {
      "image/png": "[encoded data removed]",
      "text/plain": [
       "<Figure size 432x288 with 1 Axes>"
      ]
     },
     "metadata": {},
     "output_type": "display_data"
    }
   ],
   "source": [
    "sns.countplot(two_rej)"
   ]
  },
  {
   "cell_type": "code",
   "execution_count": 155,
   "metadata": {},
   "outputs": [],
   "source": [
    "# Here we are interested in 1st , 2nd and 3rd bar"
   ]
  },
  {
   "cell_type": "code",
   "execution_count": 156,
   "metadata": {},
   "outputs": [],
   "source": [
    "from scipy import stats"
   ]
  },
  {
   "cell_type": "code",
   "execution_count": 157,
   "metadata": {},
   "outputs": [],
   "source": [
    "from scipy.stats import binom"
   ]
  },
  {
   "cell_type": "code",
   "execution_count": 158,
   "metadata": {},
   "outputs": [
    {
     "data": {
      "text/plain": [
       "0.4048962780074351"
      ]
     },
     "execution_count": 158,
     "metadata": {},
     "output_type": "execute_result"
    }
   ],
   "source": [
    "# cdf - Cumulative Density Function - used for less than or equal to\n",
    "# k - 2 or less number of defective\n",
    "# n - 20 - how many piece you are selecting  \n",
    "# p - prbability = 0.15\n",
    "\n",
    "binom.cdf(2,20, 0.15)"
   ]
  },
  {
   "cell_type": "code",
   "execution_count": 159,
   "metadata": {},
   "outputs": [
    {
     "data": {
      "text/plain": [
       "0.22933840191875257"
      ]
     },
     "execution_count": 159,
     "metadata": {},
     "output_type": "execute_result"
    }
   ],
   "source": [
    "# Probability of getting exactly 2 defective\n",
    "# Probability mass function\n",
    "binom.pmf(2,20, 0.15)"
   ]
  },
  {
   "cell_type": "code",
   "execution_count": 161,
   "metadata": {},
   "outputs": [
    {
     "data": {
      "text/plain": [
       "3.0"
      ]
     },
     "execution_count": 161,
     "metadata": {},
     "output_type": "execute_result"
    }
   ],
   "source": [
    "# getting the mean of binomial distribution \n",
    "# n = 20 \n",
    "# p = 0.15 \n",
    "# On an average how many defective I will get\n",
    "binom.mean(20,0.15)"
   ]
  },
  {
   "cell_type": "code",
   "execution_count": 163,
   "metadata": {},
   "outputs": [
    {
     "data": {
      "text/plain": [
       "1.5968719422671311"
      ]
     },
     "execution_count": 163,
     "metadata": {},
     "output_type": "execute_result"
    }
   ],
   "source": [
    "binom.std(20,0.15)"
   ]
  },
  {
   "cell_type": "code",
   "execution_count": 164,
   "metadata": {},
   "outputs": [
    {
     "data": {
      "text/plain": [
       "2.55"
      ]
     },
     "execution_count": 164,
     "metadata": {},
     "output_type": "execute_result"
    }
   ],
   "source": [
    "binom.var(20,0.15)"
   ]
  },
  {
   "cell_type": "code",
   "execution_count": 165,
   "metadata": {},
   "outputs": [
    {
     "data": {
      "text/plain": [
       "0.5951037219925649"
      ]
     },
     "execution_count": 165,
     "metadata": {},
     "output_type": "execute_result"
    }
   ],
   "source": [
    "# Probability of getting more than 2 defective\n",
    "1 - binom.cdf(2,20, 0.15)"
   ]
  },
  {
   "cell_type": "code",
   "execution_count": 166,
   "metadata": {},
   "outputs": [
    {
     "data": {
      "text/plain": [
       "0.5951037219925652"
      ]
     },
     "execution_count": 166,
     "metadata": {},
     "output_type": "execute_result"
    }
   ],
   "source": [
    "# Probability of getting more than 2 defective\n",
    "# Using survival function sf\n",
    "binom.sf(2,20,0.15)"
   ]
  },
  {
   "cell_type": "code",
   "execution_count": 169,
   "metadata": {},
   "outputs": [
    {
     "data": {
      "text/plain": [
       "<matplotlib.axes._subplots.AxesSubplot at 0x179077199c8>"
      ]
     },
     "execution_count": 169,
     "metadata": {},
     "output_type": "execute_result"
    },
    {
     "data": {
      "image/png": "[encoded data removed]",
      "text/plain": [
       "<Figure size 432x288 with 1 Axes>"
      ]
     },
     "metadata": {},
     "output_type": "display_data"
    }
   ],
   "source": [
    "x_ax = np.arange(0,21)\n",
    "# exactly one defective\n",
    "#y_as = binom.pmf(1,20,0.15)\n",
    "# This iwll give us all the probabilities of getting defectives - 0,1,2,3,----20\n",
    "y_ax = binom.pmf(x_ax,20,0.15)\n",
    "sns.barplot(x_ax, y_ax)"
   ]
  },
  {
   "cell_type": "code",
   "execution_count": 170,
   "metadata": {},
   "outputs": [
    {
     "data": {
      "text/plain": [
       "<matplotlib.axes._subplots.AxesSubplot at 0x1790628d708>"
      ]
     },
     "execution_count": 170,
     "metadata": {},
     "output_type": "execute_result"
    },
    {
     "data": {
      "image/png": "[encoded data removed]",
      "text/plain": [
       "<Figure size 432x288 with 1 Axes>"
      ]
     },
     "metadata": {},
     "output_type": "display_data"
    }
   ],
   "source": [
    "# Probability of getting two or less defective, probability of getting 3 and less defective\n",
    "x_ax = np.arange(0,21)\n",
    "# exactly one defective\n",
    "#y_as = binom.cdf(1,20,0.15)\n",
    "# This iwll give us all the probabilities of getting defectives - 0,1,2,3,----20\n",
    "y_ax = binom.cdf(x_ax,20,0.15)\n",
    "sns.barplot(x_ax, y_ax)"
   ]
  },
  {
   "cell_type": "code",
   "execution_count": 3,
   "metadata": {},
   "outputs": [],
   "source": [
    "# Probability of getting 2 or less is 0.2"
   ]
  },
  {
   "cell_type": "markdown",
   "metadata": {},
   "source": [
    "# Poisson Distribution"
   ]
  },
  {
   "cell_type": "code",
   "execution_count": 7,
   "metadata": {},
   "outputs": [
    {
     "data": {
      "text/plain": [
       "4"
      ]
     },
     "execution_count": 7,
     "metadata": {},
     "output_type": "execute_result"
    }
   ],
   "source": [
    "#Generating Poisson Distribution randum number with lambda_ = 3.6\n",
    "np.random.poisson(3.6)"
   ]
  },
  {
   "cell_type": "code",
   "execution_count": 13,
   "metadata": {},
   "outputs": [
    {
     "data": {
      "text/plain": [
       "<matplotlib.axes._subplots.AxesSubplot at 0x2a32f080088>"
      ]
     },
     "execution_count": 13,
     "metadata": {},
     "output_type": "execute_result"
    },
    {
     "data": {
      "image/png": "[encoded data removed]",
      "text/plain": [
       "<Figure size 432x288 with 1 Axes>"
      ]
     },
     "metadata": {
      "needs_background": "light"
     },
     "output_type": "display_data"
    }
   ],
   "source": [
    "ax = np.random.poisson(3.6, 10000)\n",
    "sns.countplot(ax)\n",
    "# By looking at the plot we can say that there are 10 % chance that 1 person is in the que\n",
    "# 17.5% chance that 2 persons are in the queue\n",
    "# 20% chance that 2 persons are in the queue"
   ]
  },
  {
   "cell_type": "code",
   "execution_count": 14,
   "metadata": {},
   "outputs": [
    {
     "data": {
      "image/png": "[encoded data removed]",
      "text/plain": [
       "<Figure size 432x288 with 1 Axes>"
      ]
     },
     "metadata": {
      "needs_background": "light"
     },
     "output_type": "display_data"
    }
   ],
   "source": [
    "count, bins, ignored = plt.hist(ax, 14, density=True)"
   ]
  },
  {
   "cell_type": "code",
   "execution_count": 19,
   "metadata": {},
   "outputs": [],
   "source": [
    "# Using scipy .stats"
   ]
  },
  {
   "cell_type": "code",
   "execution_count": 22,
   "metadata": {},
   "outputs": [
    {
     "data": {
      "text/plain": [
       "0.04248414026930935"
      ]
     },
     "execution_count": 22,
     "metadata": {},
     "output_type": "execute_result"
    }
   ],
   "source": [
    "# On a booking counter an average 3.6 people come every 10 mins on weekends.\n",
    "# What is the probability of getting 7 people in 10 minutes?\n",
    "x = 7\n",
    "lambda_ = 3.6\n",
    "poisson.pmf(7, 3.6)\n",
    "# 424% chances"
   ]
  },
  {
   "cell_type": "code",
   "execution_count": 23,
   "metadata": {},
   "outputs": [],
   "source": [
    "# poisson.cdf - cumulative  distribution  function - For less than or equal to\n",
    "# poisson.pmf - Probability mass function - for exact value\n",
    "# poisson.sf - For more than  (1-cdf) used to find greater than sth\n",
    "# poissson.mean - for mean of the distribution\n",
    "# poisson.var - for variance of the distribution\n",
    "# poisson.std - for standard deviation o fthe distribtution"
   ]
  },
  {
   "cell_type": "code",
   "execution_count": 24,
   "metadata": {},
   "outputs": [
    {
     "data": {
      "text/plain": [
       "0.9692107246403425"
      ]
     },
     "execution_count": 24,
     "metadata": {},
     "output_type": "execute_result"
    }
   ],
   "source": [
    "# there are 7 or less people in the queue\n",
    "poisson.cdf(7,3.6)"
   ]
  },
  {
   "cell_type": "code",
   "execution_count": 26,
   "metadata": {},
   "outputs": [
    {
     "data": {
      "text/plain": [
       "0.030789275359657444"
      ]
     },
     "execution_count": 26,
     "metadata": {},
     "output_type": "execute_result"
    }
   ],
   "source": [
    "# Getting more than 7 people in the queue is \n",
    "poisson.sf(7,3.6)"
   ]
  },
  {
   "cell_type": "code",
   "execution_count": 28,
   "metadata": {},
   "outputs": [
    {
     "data": {
      "text/plain": [
       "3.6"
      ]
     },
     "execution_count": 28,
     "metadata": {},
     "output_type": "execute_result"
    }
   ],
   "source": [
    "poisson.mean(3.6)"
   ]
  },
  {
   "cell_type": "code",
   "execution_count": 29,
   "metadata": {},
   "outputs": [
    {
     "data": {
      "text/plain": [
       "3.6"
      ]
     },
     "execution_count": 29,
     "metadata": {},
     "output_type": "execute_result"
    }
   ],
   "source": [
    "poisson.var(3.6)"
   ]
  },
  {
   "cell_type": "code",
   "execution_count": 30,
   "metadata": {},
   "outputs": [
    {
     "data": {
      "text/plain": [
       "1.8973665961010275"
      ]
     },
     "execution_count": 30,
     "metadata": {},
     "output_type": "execute_result"
    }
   ],
   "source": [
    "poisson.std(3.6)"
   ]
  },
  {
   "cell_type": "code",
   "execution_count": 31,
   "metadata": {},
   "outputs": [],
   "source": [
    "# getting probabilities for 1, 2,3 4...10  perople in the queue\n",
    "x_ax = np.arange(0,11)"
   ]
  },
  {
   "cell_type": "code",
   "execution_count": 33,
   "metadata": {},
   "outputs": [],
   "source": [
    "# Poisson probilities for each of teh numbers  in array x_ax\n",
    "y_ax = poisson.pmf(x_ax, 3.6)"
   ]
  },
  {
   "cell_type": "code",
   "execution_count": 35,
   "metadata": {},
   "outputs": [
    {
     "data": {
      "text/plain": [
       "<matplotlib.axes._subplots.AxesSubplot at 0x2a32f12f208>"
      ]
     },
     "execution_count": 35,
     "metadata": {},
     "output_type": "execute_result"
    },
    {
     "data": {
      "image/png": "[encoded data removed]",
      "text/plain": [
       "<Figure size 432x288 with 1 Axes>"
      ]
     },
     "metadata": {
      "needs_background": "light"
     },
     "output_type": "display_data"
    }
   ],
   "source": [
    "# Getting probabilites for 0, 1, 2, 3...10\n",
    "sns.barplot(x = x_ax, y = y_ax)"
   ]
  },
  {
   "cell_type": "code",
   "execution_count": 37,
   "metadata": {},
   "outputs": [
    {
     "data": {
      "text/plain": [
       "<matplotlib.axes._subplots.AxesSubplot at 0x2a32f99e788>"
      ]
     },
     "execution_count": 37,
     "metadata": {},
     "output_type": "execute_result"
    },
    {
     "data": {
      "image/png": "[encoded data removed]",
      "text/plain": [
       "<Figure size 432x288 with 1 Axes>"
      ]
     },
     "metadata": {
      "needs_background": "light"
     },
     "output_type": "display_data"
    }
   ],
   "source": [
    "x_ax = np.arange(0,21)\n",
    "y_ax = poisson.pmf(x_ax, 3.6)\n",
    "sns.barplot(x= x_ax, y = y_ax)"
   ]
  },
  {
   "cell_type": "code",
   "execution_count": 38,
   "metadata": {},
   "outputs": [
    {
     "data": {
      "text/plain": [
       "<matplotlib.axes._subplots.AxesSubplot at 0x2a32fbbd4c8>"
      ]
     },
     "execution_count": 38,
     "metadata": {},
     "output_type": "execute_result"
    },
    {
     "data": {
      "image/png": "[encoded data removed]",
      "text/plain": [
       "<Figure size 432x288 with 1 Axes>"
      ]
     },
     "metadata": {
      "needs_background": "light"
     },
     "output_type": "display_data"
    }
   ],
   "source": [
    "y_ax = poisson.cdf(x_ax, 3.6)\n",
    "sns.barplot(x = x_ax, y = y_ax)"
   ]
  },
  {
   "cell_type": "markdown",
   "metadata": {},
   "source": [
    "# Normal Distribution"
   ]
  },
  {
   "cell_type": "code",
   "execution_count": 39,
   "metadata": {},
   "outputs": [
    {
     "data": {
      "text/plain": [
       "99.08312424872771"
      ]
     },
     "execution_count": 39,
     "metadata": {},
     "output_type": "execute_result"
    }
   ],
   "source": [
    "# Creating normal random number with mean = 100 & std = 5\n",
    "np.random.normal(100,5)"
   ]
  },
  {
   "cell_type": "code",
   "execution_count": 61,
   "metadata": {},
   "outputs": [
    {
     "data": {
      "text/plain": [
       "<seaborn.axisgrid.FacetGrid at 0x1be6dd19090>"
      ]
     },
     "execution_count": 61,
     "metadata": {},
     "output_type": "execute_result"
    },
    {
     "data": {
      "image/png": "[encoded data removed]",
      "text/plain": [
       "<Figure size 500x500 with 1 Axes>"
      ]
     },
     "metadata": {},
     "output_type": "display_data"
    }
   ],
   "source": [
    "# (hist_kws={\"histtype\": \"step\", \"linewidth\": 3, \"alpha\": 1, \"color\": \"g\"})\n",
    "# with size = 1000\n",
    "sns.set_style('whitegrid')\n",
    "ax = np.random.normal(100,5,1000)\n",
    "df = pd.DataFrame(ax,columns=[\"value\"])\n",
    "sns.displot(data = df,x = \"value\", bins = 30)\n",
    "\n",
    "#sns.displot(data = ax, bins = 30,hist_kws={'edgecolor':'k', \"color\": \"g\"})\n",
    "#sns.histplot(ax, bins = 30)\n",
    "#sns.distplot(ax, bins = 30,hist_kws={'edgecolor':'k', \"color\": \"g\"})\n",
    "# Normal curve with most of the values in the middle and very less at the edges"
   ]
  },
  {
   "cell_type": "code",
   "execution_count": 64,
   "metadata": {},
   "outputs": [
    {
     "data": {
      "text/plain": [
       "<seaborn.axisgrid.FacetGrid at 0x1be0073c9d0>"
      ]
     },
     "execution_count": 64,
     "metadata": {},
     "output_type": "execute_result"
    },
    {
     "data": {
      "image/png": "[encoded data removed]",
      "text/plain": [
       "<Figure size 500x500 with 1 Axes>"
      ]
     },
     "metadata": {},
     "output_type": "display_data"
    }
   ],
   "source": [
    "# (hist_kws={\"histtype\": \"step\", \"linewidth\": 3, \"alpha\": 1, \"color\": \"g\"})\n",
    "# with size = 1000\n",
    "sns.set_style('whitegrid')\n",
    "ax = np.random.normal(100,2,100000)\n",
    "df = pd.DataFrame(ax,columns=[\"value\"])\n",
    "sns.displot(data = df,x = \"value\", bins = 30, kde = True)\n",
    "#sns.distplot(ax, kde = True)\n",
    "# Normal curve with most of the values in the middle and very less at the edges"
   ]
  },
  {
   "cell_type": "code",
   "execution_count": 47,
   "metadata": {},
   "outputs": [
    {
     "data": {
      "text/plain": [
       "array([[<matplotlib.axes._subplots.AxesSubplot object at 0x000002A330166F88>]],\n",
       "      dtype=object)"
      ]
     },
     "execution_count": 47,
     "metadata": {},
     "output_type": "execute_result"
    },
    {
     "data": {
      "image/png": "[encoded data removed]",
      "text/plain": [
       "<Figure size 432x288 with 1 Axes>"
      ]
     },
     "metadata": {
      "needs_background": "light"
     },
     "output_type": "display_data"
    }
   ],
   "source": [
    "import pandas as pd\n",
    "pd.DataFrame(ax).hist()"
   ]
  },
  {
   "cell_type": "code",
   "execution_count": 49,
   "metadata": {},
   "outputs": [
    {
     "data": {
      "text/plain": [
       "<matplotlib.axes._subplots.AxesSubplot at 0x2a32c54f848>"
      ]
     },
     "execution_count": 49,
     "metadata": {},
     "output_type": "execute_result"
    },
    {
     "data": {
      "image/png": "[encoded data removed]",
      "text/plain": [
       "<Figure size 432x288 with 1 Axes>"
      ]
     },
     "metadata": {
      "needs_background": "light"
     },
     "output_type": "display_data"
    }
   ],
   "source": [
    "pd.DataFrame(ax).plot.hist()"
   ]
  },
  {
   "cell_type": "code",
   "execution_count": 66,
   "metadata": {},
   "outputs": [
    {
     "data": {
      "text/plain": [
       "<Axes: ylabel='Count'>"
      ]
     },
     "execution_count": 66,
     "metadata": {},
     "output_type": "execute_result"
    },
    {
     "data": {
      "image/png": "[encoded data removed]",
      "text/plain": [
       "<Figure size 640x480 with 1 Axes>"
      ]
     },
     "metadata": {},
     "output_type": "display_data"
    }
   ],
   "source": [
    "# (hist_kws={\"histtype\": \"step\", \"linewidth\": 3, \"alpha\": 1, \"color\": \"g\"})\n",
    "# with size = 1000\n",
    "sns.set_style('whitegrid')\n",
    "ax = np.random.normal(100,2,1000)\n",
    "sns.histplot(ax, kde = True)\n",
    "# Normal curve with most of the values in the middle and very less at the edges\n",
    "# mu = 100\n",
    "# std = 2\n",
    "# We will see now 68.2 percent of values are between 2 sigma"
   ]
  },
  {
   "cell_type": "code",
   "execution_count": 67,
   "metadata": {},
   "outputs": [
    {
     "data": {
      "text/plain": [
       "array([ 98.93259241,  97.64401728, 100.36741029, 102.1490424 ,\n",
       "        98.99163389,  96.78892462,  99.30817469,  99.29290668,\n",
       "        98.2395206 ,  98.50039598,  97.33732809,  98.8956858 ,\n",
       "        97.58223998, 100.55736013, 103.60884449,  99.29307099,\n",
       "        95.26664293,  99.52114238,  97.63028473,  98.32890191,\n",
       "        97.87631649, 100.33731087,  99.79302711, 102.12973283,\n",
       "       102.39414431,  99.29091726,  99.30956833, 101.6786327 ,\n",
       "        99.57379997,  97.95542582, 101.31049979, 101.20323068,\n",
       "        97.47345205, 102.82899239,  99.71642712,  99.01049214,\n",
       "        99.40610352,  96.56078288, 100.74559023,  98.08143604,\n",
       "       100.61746019,  98.83933353,  97.23710896, 102.47844223,\n",
       "        97.79424731, 101.12728149, 100.6726474 ,  98.78255558,\n",
       "        97.79701945,  97.79480694,  98.05650917,  99.87326317,\n",
       "       101.72681137, 100.93312049, 102.62860922,  99.05004694,\n",
       "       102.52231593, 100.23045022,  98.10106746, 102.12540383,\n",
       "        93.2826884 , 100.78553759,  99.93351649,  97.53681164,\n",
       "       101.21091787,  99.30968036,  98.45381931, 100.14524591,\n",
       "       101.62642145,  99.26744191, 100.56705087, 103.73557522,\n",
       "        98.99693304, 103.13608693,  97.38726844, 101.61266158,\n",
       "       101.08116038,  98.66099414,  97.70680024,  98.32957584,\n",
       "        98.3176329 ,  99.84546162, 103.14325525,  98.65497925,\n",
       "       103.28365133, 100.2288419 , 101.38665698,  97.76660779,\n",
       "       101.59484637, 100.98092085,  99.59440871, 100.95692664,\n",
       "       101.50718786, 100.74442049, 100.28969469,  99.69586299,\n",
       "       103.52024929, 102.47544059,  99.08412059, 102.34213664,\n",
       "        99.7646465 , 105.08062299, 100.52050224,  99.51161702,\n",
       "       100.31983551, 100.71124755, 101.61605263, 102.01429192,\n",
       "        96.5139885 , 101.68900416,  97.66187651, 103.7460942 ,\n",
       "       102.1806049 , 100.24268881, 102.29131402,  99.37274565,\n",
       "       101.39140684, 103.10279143,  99.33727413,  99.87130795,\n",
       "       105.69004861,  97.22959392, 103.08188521,  96.99693474,\n",
       "       100.41485085, 101.05599748,  98.3737061 , 101.38139998,\n",
       "        99.84123669, 101.13964903, 102.38691336,  97.9942219 ,\n",
       "        97.58927117, 103.11300348, 100.0708492 , 103.26559346,\n",
       "        96.39818672,  98.99600767,  95.66195021, 101.18775894,\n",
       "        99.39368099, 100.99840248, 101.28118673, 102.28026205,\n",
       "        98.30251755,  99.7281999 ,  97.29672787,  99.1930229 ,\n",
       "       104.7309227 , 103.56253558, 100.77542576,  99.89274536,\n",
       "        96.27830787,  97.59645426,  97.1614981 ,  99.39788721,\n",
       "       102.78788307,  98.99104335,  98.43537438,  95.3089437 ,\n",
       "       101.29579796,  99.62784826, 100.85331226, 102.36161171,\n",
       "       100.30252959,  97.54225629, 101.39005441,  98.39171711,\n",
       "        99.48301609, 101.15370937,  96.61515991,  98.31711856,\n",
       "        99.32579952, 103.09610966,  98.24055337,  99.71873498,\n",
       "        98.18053016, 101.95764604, 100.96777741, 101.86683262,\n",
       "        99.68140961,  99.28042041,  99.18798699,  99.41468162,\n",
       "        99.9303402 , 101.31000974,  99.6369381 ,  99.58555652,\n",
       "        98.865171  , 100.75993908, 102.25387305,  98.6842901 ,\n",
       "        97.30832541,  98.35436172,  98.96352911,  97.61991595,\n",
       "       101.6524378 , 102.2186757 , 101.89197223, 103.44756597,\n",
       "       101.09172279, 100.56694519, 103.9450207 ,  98.81270684,\n",
       "        96.61417322,  95.71983739, 101.94895275, 100.1682389 ,\n",
       "       103.30726074, 101.88037251, 101.31763264,  98.15711588,\n",
       "        99.56243512,  99.10800628, 100.50387352, 100.19503142,\n",
       "       101.41379198,  97.97362565, 100.97310652,  99.00368583,\n",
       "       100.28192829,  97.78647227,  98.94471798, 101.69217825,\n",
       "       100.09344939, 100.04338376,  98.94114479,  96.91427705,\n",
       "       101.04969549,  98.99692837,  97.28015849,  97.47492151,\n",
       "       100.03150428, 104.066531  ,  99.19513397, 100.60077323,\n",
       "       103.62767175, 100.52752545,  99.17801807,  99.0134743 ,\n",
       "       101.47215773, 102.67629251,  99.63221705,  97.08973511,\n",
       "        99.77049187, 100.23490106, 103.83107785,  95.9222113 ,\n",
       "       101.78490375, 100.94415508, 102.00849854, 100.34524216,\n",
       "        99.29900555, 101.77575708,  98.04087235,  99.81823794,\n",
       "        99.61658679, 100.75763609,  98.24445304, 101.21728321,\n",
       "       101.47926461, 100.40689412,  98.19042414,  98.67993575,\n",
       "        96.02769165,  97.38354458, 102.58382909,  99.95179158,\n",
       "        98.30716257,  99.87390665,  99.55307735,  99.41216883,\n",
       "        98.17302712, 100.69050752, 101.52770195, 101.84747053,\n",
       "        99.80085093,  99.03458887, 104.36535671, 100.54092761,\n",
       "        98.87456823, 102.81498899,  98.41446312,  95.4324806 ,\n",
       "        99.88748766,  99.01675078,  96.91184271, 103.77613407,\n",
       "        97.99319382,  99.20317787,  97.56971444,  99.88531146,\n",
       "       104.97887927, 103.27618305, 100.27698079,  95.19545088,\n",
       "       101.11734757,  98.81339068,  98.41075375, 103.03630604,\n",
       "        99.10728287,  99.24521819, 100.12974859, 103.10770306,\n",
       "       101.26521863, 104.9021089 ,  95.71200096,  99.42688603,\n",
       "       101.77101401,  99.64514897,  99.23530938,  99.5141699 ,\n",
       "        98.3344276 ,  99.05750123,  99.27711389, 100.27518118,\n",
       "       103.98058834, 100.85273995, 104.30426805,  99.98331395,\n",
       "        98.01570325,  97.315235  , 102.9909562 , 100.96339813,\n",
       "        99.47495983,  97.98491925,  98.67583731, 101.24591802,\n",
       "       102.92675652, 103.41621646, 100.83324976,  97.18373063,\n",
       "        96.7616683 , 100.33753575,  99.66692143,  99.51026382,\n",
       "       102.45497787,  99.76443962,  99.82509569, 101.57366639,\n",
       "        98.36193686,  98.69386523,  99.85112153,  99.74527929,\n",
       "        99.67872695,  97.75295998, 100.73279752, 102.24809892,\n",
       "       100.78589531,  99.35701197,  99.34721154, 100.70717087,\n",
       "       100.88864172,  97.23292982, 101.67254871,  96.75512828,\n",
       "        99.96537035,  97.34385543,  99.05266752, 100.54586148,\n",
       "       101.43834039, 102.4608281 , 101.51476187, 100.97294825,\n",
       "       101.46082631,  97.42245701,  99.18223404,  99.95877998,\n",
       "       101.24607188,  95.62531882,  99.75891583, 100.48335776,\n",
       "       100.39417687, 102.88642824,  97.93661246,  97.18918066,\n",
       "       102.15600179,  99.75557564,  98.21088094, 101.57478044,\n",
       "       101.13062309,  99.29990862, 102.11550366,  98.59301486,\n",
       "        97.67386222,  98.73311363,  96.87741837,  94.67793975,\n",
       "       101.82519162, 100.05570314, 103.43305837, 101.35787264,\n",
       "       100.55639452,  98.8560426 , 101.37572108,  96.41646063,\n",
       "       100.49607149, 100.69757665, 101.066727  , 100.94128425,\n",
       "       104.4148068 , 100.67430441, 103.19187358, 100.7347713 ,\n",
       "        97.49746953,  98.85726018,  98.39196202, 102.27488439,\n",
       "        97.46394926, 102.80977731, 100.90154256, 100.40159324,\n",
       "       103.32388764,  97.48830492, 101.90916588,  99.85979923,\n",
       "       100.74421735, 103.26862048, 100.64518999,  99.06787132,\n",
       "        99.9868176 ,  99.39534185, 100.18106062, 100.20140903,\n",
       "        96.48612553,  97.55912091,  99.62897079, 100.17376806,\n",
       "       100.31717632,  99.71013583, 102.25033129, 100.84957801,\n",
       "       100.0720022 ,  98.2138826 ,  99.74187989, 101.54033003,\n",
       "        99.97565059, 103.51113716,  99.62708395, 101.75661364,\n",
       "        99.55427294, 100.87595396, 103.6218819 ,  99.86818747,\n",
       "        99.19127018, 101.51799845, 100.59508298, 101.07285594,\n",
       "        98.32153866,  99.09487585,  98.99289989,  98.60198932,\n",
       "        96.8584145 , 105.67864469,  99.27237301,  98.77883859,\n",
       "        97.57049946, 101.36977834, 102.27004873,  98.99634758,\n",
       "        98.93048719,  95.40171883,  97.58544553,  99.99997073,\n",
       "       100.15295526, 102.80698553, 101.59544821, 103.09652098,\n",
       "       102.26155511, 100.82639306,  97.83258398,  99.32071607,\n",
       "        98.34886215,  98.58854263, 103.87060958, 101.65865596,\n",
       "        99.96682355,  99.76531795, 100.21467788, 102.29131594,\n",
       "        97.41087406, 100.03153587,  98.66728384, 100.5393449 ,\n",
       "       100.65465288, 100.79443329,  98.03865431, 102.37870943,\n",
       "       100.48711422,  97.01506675, 101.07695692,  97.07376656,\n",
       "        97.33520878,  97.55238974,  99.7785036 , 101.61229634,\n",
       "       103.8422388 ,  98.46462643, 102.74731281,  99.85935535,\n",
       "        98.32315599,  98.55654494, 100.97168228, 100.15842245,\n",
       "        99.40344555, 101.00247305, 102.34570845, 102.22537284,\n",
       "        99.95842179,  99.59553365, 100.95141982,  98.19099561,\n",
       "        99.17900496, 101.44935318,  95.82603166,  98.84655685,\n",
       "       100.80294171, 101.3296631 ,  99.14538019, 100.58211478,\n",
       "        98.19388129, 101.9588526 ,  95.89838347, 100.01971306,\n",
       "        98.58477657,  97.90916633, 101.05783939, 102.2303658 ,\n",
       "        99.40977039, 101.2395413 , 102.32962339,  98.20601878,\n",
       "       100.28798504,  98.78312732, 100.2111877 , 100.39447404,\n",
       "        98.06416156, 100.58307412, 102.9877201 ,  98.80170911,\n",
       "        96.10829506, 101.54199895, 100.13990361, 101.47145253,\n",
       "        98.89672305, 101.52649653,  99.70865785, 100.32077746,\n",
       "       100.20399889,  96.50011521,  99.34130937,  96.26448609,\n",
       "       104.78131529,  99.95379139,  96.31909292, 101.40153179,\n",
       "        98.90920923, 101.76212043, 100.947061  ,  97.80483065,\n",
       "       100.81288127, 100.02044202,  98.8502589 ,  99.16446914,\n",
       "        98.44748159,  98.64748508,  99.23180259,  99.9346643 ,\n",
       "        97.94742475,  96.96267943,  99.06033613, 101.40536161,\n",
       "        99.84371479,  98.83553538,  99.88272249, 103.62252462,\n",
       "        94.89021392, 101.23246819,  99.82027736, 104.0900183 ,\n",
       "       100.88109151, 101.65425746, 100.90723794, 100.65558479,\n",
       "       102.78839643,  96.18623802,  98.17421337, 102.95809778,\n",
       "       105.84823189,  96.75664038,  99.10853943,  99.70776165,\n",
       "       102.49136447,  99.35880383,  97.70587896, 100.29004527,\n",
       "        97.20090213,  96.88696865, 100.07823021,  99.30950948,\n",
       "       101.90650815,  96.92304145,  98.36964049,  97.60866689,\n",
       "       101.50438612, 100.8096057 ,  99.01931322, 103.03770443,\n",
       "        97.93963258, 101.6022495 ,  95.4102326 , 102.60543719,\n",
       "       101.74527091,  97.47154505, 101.32523518, 101.29633489,\n",
       "        99.91039044, 102.09360107, 100.24760384,  96.93208703,\n",
       "        98.46587445,  99.76676018, 104.6907847 , 103.2666326 ,\n",
       "        96.97397808, 101.25226979,  99.78872673,  99.39885286,\n",
       "        96.31941486, 100.04799275,  99.23896653,  94.61396473,\n",
       "       106.16871375, 100.49579027, 100.75485503,  99.64066456,\n",
       "       101.46624918,  99.62726617,  99.71179413, 101.83360379,\n",
       "        97.32884047,  99.1148024 ,  97.39947427,  99.42091391,\n",
       "       101.16831255, 100.68209854,  98.0212723 ,  96.64356743,\n",
       "        95.71712725,  97.93696065, 101.73042245, 102.89170258,\n",
       "        97.91478362,  97.37857204, 102.60506148,  97.07657366,\n",
       "       100.67310039,  98.80387391, 100.20836494,  97.83154425,\n",
       "       101.56159558,  97.8270233 , 102.32927092,  96.63907688,\n",
       "        98.50222748,  95.78758621,  99.73190492,  99.52984736,\n",
       "       100.21073714,  98.16100113,  99.53920992,  99.01326361,\n",
       "       101.70062248,  97.01673914, 101.55656311,  98.19527292,\n",
       "       102.71995556,  99.79033617,  99.16973199, 101.24768539,\n",
       "       101.35851006, 101.50926713, 100.71751315, 100.56682682,\n",
       "        97.63239854,  99.30438706, 102.3779381 ,  98.54663648,\n",
       "       101.9814867 , 101.28212932,  99.1630681 ,  99.9595224 ,\n",
       "        96.2095137 , 102.10879659,  99.65418186,  99.48986294,\n",
       "       100.36857369,  96.90137479,  98.88127094, 102.07151836,\n",
       "       103.72973302,  98.69892139, 104.0855697 ,  99.83045411,\n",
       "       101.07096661,  98.86512878,  99.51237434,  98.78824207,\n",
       "        95.38227773,  99.76995533,  98.91866059,  95.49772821,\n",
       "       100.4097541 , 100.53182707,  96.06188611,  98.58067446,\n",
       "       101.06799141,  99.52374412, 100.83688091,  97.45736376,\n",
       "        97.63349655,  99.37939645, 102.49443641, 100.64958996,\n",
       "       100.17594165, 101.70231264,  96.98732908,  99.45361383,\n",
       "        97.30383081, 101.05915944, 100.23154445,  99.88550645,\n",
       "        99.59211538, 104.30040757, 101.84883147, 100.18685918,\n",
       "        97.4438865 , 100.11908363, 101.89799926, 101.57085578,\n",
       "       102.21634871, 102.81270631, 100.49067301, 101.66284259,\n",
       "        95.55031384, 100.03383556,  99.14972387,  96.87278389,\n",
       "       100.7930305 ,  96.90595255,  97.62233241,  95.97442214,\n",
       "       104.76250326,  99.65053612, 101.28878183,  95.27270881,\n",
       "       100.74915882,  99.14105269, 100.09617827,  96.84170271,\n",
       "       100.2933844 , 100.52599174, 101.86451076, 100.97874786,\n",
       "       100.88860752, 100.59937932,  98.97731995,  97.97478593,\n",
       "        96.94765748, 102.85320151, 104.12680256,  98.78214719,\n",
       "        99.29199351, 101.65074545, 101.87014329,  99.64725521,\n",
       "       103.09007778, 101.8521033 ,  99.3232055 ,  99.6708624 ,\n",
       "       103.04305797,  98.509467  ,  99.16428904,  97.76401389,\n",
       "        99.26042983,  99.62140029,  98.92285488,  99.8370463 ,\n",
       "        98.5455573 ,  99.64830488, 104.87254669,  97.20720981,\n",
       "        98.58209573,  99.63089596,  99.66632884, 100.92615144,\n",
       "       102.93348097, 100.93980384,  99.00545592, 100.46358987,\n",
       "       100.51085289,  97.15862861, 100.23413191, 101.50548384,\n",
       "        99.29682405, 101.84430565,  99.3329483 ,  98.83073156,\n",
       "        98.26463057,  98.29132131,  99.89699627,  98.52010458,\n",
       "        97.85871802,  98.4566078 , 101.49180934, 100.48135863,\n",
       "        98.98015411,  99.82974734,  99.74055796, 100.73314395,\n",
       "       100.35983944, 100.52698742,  99.04990484,  95.76419791,\n",
       "       100.66855679,  98.71194278, 101.61312814, 102.68976762,\n",
       "       100.97629107, 102.73776055,  95.92098827, 101.35906241,\n",
       "        98.316054  ,  97.59998386, 101.87711284,  98.52890909,\n",
       "       100.3941455 , 100.53260306, 100.10680311,  98.79575028,\n",
       "        98.82131668, 101.2222409 , 101.19204052, 101.77124227,\n",
       "        97.27202943, 100.39617081,  99.59185149, 100.96092916,\n",
       "        97.98119536,  99.11812292, 103.35945104,  98.47459702,\n",
       "       101.05005335,  97.7876657 , 102.54640898, 103.03131503,\n",
       "       104.38859391,  99.07532911,  99.3191932 , 101.82389493,\n",
       "       101.15483324, 100.09446451,  98.56807967, 102.18076449,\n",
       "       100.62650691,  98.65725798, 102.18016428,  99.17355269,\n",
       "       100.27049748, 101.52882592, 103.95801221, 103.32005009,\n",
       "       101.65732066, 101.14015984,  99.98748251,  98.85409061,\n",
       "        98.7263497 ,  98.07029241, 103.51231072,  97.22795247,\n",
       "        97.7913473 ,  99.86596721,  97.09025466,  97.86612455,\n",
       "       102.44734096,  97.7121741 , 100.65195368, 102.16163973,\n",
       "        99.73441984,  98.28969749,  98.0117109 , 102.0665276 ,\n",
       "       100.94613584, 101.63496644,  95.96152519,  98.28938507,\n",
       "        95.57807002, 101.60258119, 100.11564897, 101.03832365,\n",
       "       100.35731641, 103.76465496,  97.55100176, 100.32580307,\n",
       "        99.03502856,  99.60942415, 101.84454124, 100.70650328,\n",
       "        99.31120994,  99.79251738, 102.77386585,  97.87291971,\n",
       "       103.57445197, 100.80779291, 101.51071112,  98.30464014,\n",
       "       101.88537888, 100.25776036,  99.91314464,  97.58297919,\n",
       "       100.99898721,  99.52627328,  99.3988825 ,  97.35036668,\n",
       "       100.79305585, 102.15265897, 104.45417348,  99.72790675,\n",
       "       100.25754612,  99.65283633, 101.39791532,  98.67820533,\n",
       "       100.15651186, 102.05679724,  96.08050348, 102.15856957,\n",
       "        99.98981719,  97.73807007, 104.24272002,  97.58098458,\n",
       "        99.38957913, 101.7634945 , 101.96921868,  97.24252123,\n",
       "       101.1085995 , 100.82071438, 100.05426274,  98.07654234,\n",
       "        97.79596267,  96.84511197, 101.43605108, 100.66135026,\n",
       "       103.01439359,  99.76592358,  96.57690197,  98.52743175,\n",
       "        97.82601968, 100.29170824, 101.93318224, 102.69833304,\n",
       "        99.03241588, 101.06201798,  93.89189043,  99.13026253,\n",
       "       102.33652935, 100.44469898,  97.7203697 ,  99.4274791 ,\n",
       "       100.38477227, 101.68490787,  99.31549273, 102.46782807,\n",
       "        99.64590626,  97.17840883,  97.36351585, 101.94139761,\n",
       "       103.52237902,  95.12216069, 101.78577552, 101.56937701,\n",
       "       100.62818959, 102.93272544, 102.02129806, 103.50495451,\n",
       "        98.7883072 ,  99.91032902, 103.05769361,  99.3009451 ,\n",
       "        99.52063678, 100.03119061, 104.4099279 , 101.7830203 ,\n",
       "       101.52459594, 100.06266773,  98.92971483,  96.49507991,\n",
       "        99.47387006, 104.48825916,  99.65658719, 101.94201492])"
      ]
     },
     "execution_count": 67,
     "metadata": {},
     "output_type": "execute_result"
    }
   ],
   "source": [
    "ax"
   ]
  },
  {
   "cell_type": "code",
   "execution_count": 68,
   "metadata": {},
   "outputs": [
    {
     "data": {
      "text/plain": [
       "99.96832129051727"
      ]
     },
     "execution_count": 68,
     "metadata": {},
     "output_type": "execute_result"
    }
   ],
   "source": [
    "ax.mean()"
   ]
  },
  {
   "cell_type": "code",
   "execution_count": 69,
   "metadata": {},
   "outputs": [
    {
     "data": {
      "text/plain": [
       "2.0408694866817494"
      ]
     },
     "execution_count": 69,
     "metadata": {},
     "output_type": "execute_result"
    }
   ],
   "source": [
    "ax.std()"
   ]
  },
  {
   "cell_type": "code",
   "execution_count": 70,
   "metadata": {},
   "outputs": [
    {
     "data": {
      "text/plain": [
       "851"
      ]
     },
     "execution_count": 70,
     "metadata": {},
     "output_type": "execute_result"
    }
   ],
   "source": [
    "#ax >98\n",
    "\n",
    "sum(ax >98)\n"
   ]
  },
  {
   "cell_type": "code",
   "execution_count": 71,
   "metadata": {},
   "outputs": [
    {
     "data": {
      "text/plain": [
       "85.1"
      ]
     },
     "execution_count": 71,
     "metadata": {},
     "output_type": "execute_result"
    }
   ],
   "source": [
    "(851/1000)*100\n",
    "# 85.1% is towards the right of 1 sigma"
   ]
  },
  {
   "cell_type": "code",
   "execution_count": 72,
   "metadata": {},
   "outputs": [
    {
     "data": {
      "text/plain": [
       "827"
      ]
     },
     "execution_count": 72,
     "metadata": {},
     "output_type": "execute_result"
    }
   ],
   "source": [
    "# ax <102\n",
    "sum(ax<102)"
   ]
  },
  {
   "cell_type": "code",
   "execution_count": 73,
   "metadata": {},
   "outputs": [
    {
     "data": {
      "text/plain": [
       "82.69999999999999"
      ]
     },
     "execution_count": 73,
     "metadata": {},
     "output_type": "execute_result"
    }
   ],
   "source": [
    "(827/1000)*100"
   ]
  },
  {
   "cell_type": "code",
   "execution_count": 74,
   "metadata": {},
   "outputs": [
    {
     "data": {
      "text/plain": [
       "678"
      ]
     },
     "execution_count": 74,
     "metadata": {},
     "output_type": "execute_result"
    }
   ],
   "source": [
    "# Area between +1 sigma & -1 sigma\n",
    "sum((ax>98) & (ax<102))"
   ]
  },
  {
   "cell_type": "code",
   "execution_count": 75,
   "metadata": {},
   "outputs": [
    {
     "data": {
      "text/plain": [
       "67.80000000000001"
      ]
     },
     "execution_count": 75,
     "metadata": {},
     "output_type": "execute_result"
    }
   ],
   "source": [
    "(678/1000)*100"
   ]
  },
  {
   "cell_type": "code",
   "execution_count": 76,
   "metadata": {},
   "outputs": [
    {
     "data": {
      "text/plain": [
       "959"
      ]
     },
     "execution_count": 76,
     "metadata": {},
     "output_type": "execute_result"
    }
   ],
   "source": [
    "# Area between +2 sigma & -2 sigma\n",
    "sum((ax>96) & (ax<104))"
   ]
  },
  {
   "cell_type": "code",
   "execution_count": 77,
   "metadata": {},
   "outputs": [
    {
     "data": {
      "text/plain": [
       "95.89999999999999"
      ]
     },
     "execution_count": 77,
     "metadata": {},
     "output_type": "execute_result"
    }
   ],
   "source": [
    "959/1000*100"
   ]
  },
  {
   "cell_type": "code",
   "execution_count": 78,
   "metadata": {},
   "outputs": [
    {
     "data": {
      "text/plain": [
       "997"
      ]
     },
     "execution_count": 78,
     "metadata": {},
     "output_type": "execute_result"
    }
   ],
   "source": [
    "# Area between +3 sigma & -3 sigma\n",
    "sum((ax>94) & (ax<106))"
   ]
  },
  {
   "cell_type": "code",
   "execution_count": 79,
   "metadata": {},
   "outputs": [
    {
     "data": {
      "text/plain": [
       "99.7"
      ]
     },
     "execution_count": 79,
     "metadata": {},
     "output_type": "execute_result"
    }
   ],
   "source": [
    "997/1000*100"
   ]
  },
  {
   "cell_type": "code",
   "execution_count": 82,
   "metadata": {},
   "outputs": [
    {
     "data": {
      "text/plain": [
       "0.06680720126885807"
      ]
     },
     "execution_count": 82,
     "metadata": {},
     "output_type": "execute_result"
    }
   ],
   "source": [
    "# Perfume bottles are filled with avg. volumn of 150cc & standard deviation of 2cc. \n",
    "# What percent of bottles will have a volumn greater than 153cc\n",
    "# SF - survival function is used for greater than sth\n",
    "norm.sf(153,150,2)"
   ]
  },
  {
   "cell_type": "code",
   "execution_count": 83,
   "metadata": {},
   "outputs": [
    {
     "data": {
      "text/plain": [
       "0.6826894921370859"
      ]
     },
     "execution_count": 83,
     "metadata": {},
     "output_type": "execute_result"
    }
   ],
   "source": [
    "# Perfume bottles are filled with avg. volumn of 150cc & standard deviation of 2cc. \n",
    "# What percent of bottles will have a volumn between 148 & 152cc\n",
    "# SF - survival function is used for greater than sth\n",
    "norm.sf(148,150,2) - norm.sf(152,150,2)"
   ]
  },
  {
   "cell_type": "markdown",
   "metadata": {},
   "source": [
    "GMAT <br>\n",
    "Mean = 711<br>\n",
    "Standard Deviation =29<br>\n",
    "What is the p(x<=680)<br>\n",
    "What is the p(660<=x<=780)<br>"
   ]
  },
  {
   "cell_type": "code",
   "execution_count": 85,
   "metadata": {},
   "outputs": [
    {
     "data": {
      "text/plain": [
       "0.14254260383881612"
      ]
     },
     "execution_count": 85,
     "metadata": {},
     "output_type": "execute_result"
    }
   ],
   "source": [
    "# What is the p(x<=680)\n",
    "# CDF for less than\n",
    "norm.cdf(680,711,29)"
   ]
  },
  {
   "cell_type": "code",
   "execution_count": 86,
   "metadata": {},
   "outputs": [
    {
     "data": {
      "text/plain": [
       "0.8574573961611839"
      ]
     },
     "execution_count": 86,
     "metadata": {},
     "output_type": "execute_result"
    }
   ],
   "source": [
    "# What is the p(x>680)\n",
    "# sf - greater than\n",
    "norm.sf(680,711,29)"
   ]
  },
  {
   "cell_type": "code",
   "execution_count": 88,
   "metadata": {},
   "outputs": [
    {
     "data": {
      "text/plain": [
       "0.8487848631543883"
      ]
     },
     "execution_count": 88,
     "metadata": {},
     "output_type": "execute_result"
    }
   ],
   "source": [
    "# between 660 & 780\n",
    "norm.sf(680,711,29) - norm.sf(780,711,29)"
   ]
  },
  {
   "cell_type": "code",
   "execution_count": 99,
   "metadata": {},
   "outputs": [
    {
     "data": {
      "text/plain": [
       "<matplotlib.lines.Line2D at 0x2a334582548>"
      ]
     },
     "execution_count": 99,
     "metadata": {},
     "output_type": "execute_result"
    },
    {
     "data": {
      "image/png": "[encoded data removed]",
      "text/plain": [
       "<Figure size 432x288 with 1 Axes>"
      ]
     },
     "metadata": {},
     "output_type": "display_data"
    }
   ],
   "source": [
    "x_ax = np.linspace(600, 800, 1000)\n",
    "y_ax = norm.pdf(x_ax, 711,29)\n",
    "sns.lineplot(x = x_ax, y = y_ax)\n",
    "plt.axvline(780 , color = 'red')\n",
    "plt.axvline(680)"
   ]
  },
  {
   "cell_type": "code",
   "execution_count": null,
   "metadata": {},
   "outputs": [],
   "source": []
  },
  {
   "cell_type": "code",
   "execution_count": null,
   "metadata": {},
   "outputs": [],
   "source": []
  },
  {
   "cell_type": "code",
   "execution_count": 90,
   "metadata": {},
   "outputs": [
    {
     "data": {
      "text/plain": [
       "array([144., 145., 146., 147., 148., 149., 150., 151., 152., 153., 154.,\n",
       "       155., 156.])"
      ]
     },
     "execution_count": 90,
     "metadata": {},
     "output_type": "execute_result"
    }
   ],
   "source": [
    "# Plot where mean is 150 and std is 2\n",
    "# plot between - 3 stdev\n",
    "x_ax = np.linspace(144, 156, 13)\n",
    "x_ax"
   ]
  },
  {
   "cell_type": "code",
   "execution_count": 91,
   "metadata": {},
   "outputs": [],
   "source": [
    "y_ax = norm.pdf(x_ax, 150,2)\n",
    "\n",
    "               "
   ]
  },
  {
   "cell_type": "code",
   "execution_count": 92,
   "metadata": {},
   "outputs": [
    {
     "data": {
      "text/plain": [
       "<matplotlib.axes._subplots.AxesSubplot at 0x2a33401a588>"
      ]
     },
     "execution_count": 92,
     "metadata": {},
     "output_type": "execute_result"
    },
    {
     "data": {
      "image/png": "[encoded data removed]",
      "text/plain": [
       "<Figure size 432x288 with 1 Axes>"
      ]
     },
     "metadata": {},
     "output_type": "display_data"
    }
   ],
   "source": [
    "sns.lineplot(x = x_ax, y = y_ax)"
   ]
  },
  {
   "cell_type": "code",
   "execution_count": 94,
   "metadata": {},
   "outputs": [
    {
     "data": {
      "text/plain": [
       "<matplotlib.lines.Line2D at 0x2a333decdc8>"
      ]
     },
     "execution_count": 94,
     "metadata": {},
     "output_type": "execute_result"
    },
    {
     "data": {
      "image/png": "[encoded data removed]",
      "text/plain": [
       "<Figure size 432x288 with 1 Axes>"
      ]
     },
     "metadata": {},
     "output_type": "display_data"
    }
   ],
   "source": [
    "# to get the smoother curve\n",
    "# Plot where mean is 150 and std is 2\n",
    "# plot between - 3 stdev\n",
    "x_ax = np.linspace(144, 156, 1000)\n",
    "y_ax = norm.pdf(x_ax, 150,2)\n",
    "sns.lineplot(x = x_ax, y = y_ax)\n",
    "plt.axvline(153)"
   ]
  },
  {
   "cell_type": "code",
   "execution_count": null,
   "metadata": {},
   "outputs": [],
   "source": []
  }
 ],
 "metadata": {
  "kernelspec": {
   "display_name": "Python 3 (ipykernel)",
   "language": "python",
   "name": "python3"
  },
  "language_info": {
   "codemirror_mode": {
    "name": "ipython",
    "version": 3
   },
   "file_extension": ".py",
   "mimetype": "text/x-python",
   "name": "python",
   "nbconvert_exporter": "python",
   "pygments_lexer": "ipython3",
   "version": "3.10.9"
  }
 },
 "nbformat": 4,
 "nbformat_minor": 2
}
