{
 "cells": [
  {
   "cell_type": "markdown",
   "metadata": {},
   "source": [
    "# Central Tendency\n",
    "1. Mean\n",
    "2. Mode\n",
    "3. Median\n",
    "\n",
    "# Measure of Dispersion\n",
    "1. Range\n",
    "2. Standard Deviation\n",
    "3. Variance\n",
    "4. Quartiles"
   ]
  },
  {
   "cell_type": "code",
   "execution_count": 2,
   "metadata": {},
   "outputs": [],
   "source": [
    "import numpy as np\n",
    "import pandas as pd\n",
    "import matplotlib.pyplot as plt\n",
    "import seaborn as sns\n",
    "from scipy import stats\n",
    "import statistics as st\n",
    "from scipy.stats import binom\n",
    "from scipy.stats import poisson\n",
    "from scipy.stats import norm"
   ]
  },
  {
   "cell_type": "code",
   "execution_count": 3,
   "metadata": {},
   "outputs": [],
   "source": [
    "nums = [1,2,3,3,3,4,5,6,6,6,6,6,7,8,11,44,77]"
   ]
  },
  {
   "cell_type": "code",
   "execution_count": 4,
   "metadata": {},
   "outputs": [
    {
     "name": "stdout",
     "output_type": "stream",
     "text": [
      "198\n"
     ]
    }
   ],
   "source": [
    "# sum of numbers\n",
    "summ = sum(nums)\n",
    "print(summ)"
   ]
  },
  {
   "cell_type": "code",
   "execution_count": 5,
   "metadata": {},
   "outputs": [
    {
     "name": "stdout",
     "output_type": "stream",
     "text": [
      "17\n"
     ]
    }
   ],
   "source": [
    "# number of elements in the list \n",
    "lenn = len(nums)\n",
    "print(lenn)"
   ]
  },
  {
   "cell_type": "code",
   "execution_count": 6,
   "metadata": {},
   "outputs": [
    {
     "data": {
      "text/plain": [
       "5"
      ]
     },
     "execution_count": 6,
     "metadata": {},
     "output_type": "execute_result"
    }
   ],
   "source": [
    "# How many times 6 is repeated\n",
    "nums.count(6)"
   ]
  },
  {
   "cell_type": "code",
   "execution_count": 7,
   "metadata": {},
   "outputs": [
    {
     "name": "stdout",
     "output_type": "stream",
     "text": [
      "11.647058823529411\n"
     ]
    }
   ],
   "source": [
    "myavg = summ/lenn\n",
    "print(myavg)"
   ]
  },
  {
   "cell_type": "code",
   "execution_count": 8,
   "metadata": {},
   "outputs": [
    {
     "data": {
      "text/plain": [
       "11.647058823529411"
      ]
     },
     "execution_count": 8,
     "metadata": {},
     "output_type": "execute_result"
    }
   ],
   "source": [
    "import numpy as np\n",
    "np.mean(nums)"
   ]
  },
  {
   "cell_type": "code",
   "execution_count": 9,
   "metadata": {},
   "outputs": [],
   "source": [
    "# For statistics we will import package statistics\n",
    "import statistics as st"
   ]
  },
  {
   "cell_type": "code",
   "execution_count": 10,
   "metadata": {},
   "outputs": [
    {
     "data": {
      "text/plain": [
       "11.647058823529411"
      ]
     },
     "execution_count": 10,
     "metadata": {},
     "output_type": "execute_result"
    }
   ],
   "source": [
    "st.mean(nums)"
   ]
  },
  {
   "cell_type": "code",
   "execution_count": 11,
   "metadata": {},
   "outputs": [
    {
     "data": {
      "text/plain": [
       "6.0"
      ]
     },
     "execution_count": 11,
     "metadata": {},
     "output_type": "execute_result"
    }
   ],
   "source": [
    "# Finding out median of the nums\n",
    "np.median(nums)"
   ]
  },
  {
   "cell_type": "code",
   "execution_count": 12,
   "metadata": {},
   "outputs": [
    {
     "data": {
      "text/plain": [
       "6"
      ]
     },
     "execution_count": 12,
     "metadata": {},
     "output_type": "execute_result"
    }
   ],
   "source": [
    "# Using statistics package\n",
    "st.median(nums)"
   ]
  },
  {
   "cell_type": "code",
   "execution_count": 13,
   "metadata": {},
   "outputs": [
    {
     "data": {
      "text/plain": [
       "6"
      ]
     },
     "execution_count": 13,
     "metadata": {},
     "output_type": "execute_result"
    }
   ],
   "source": [
    "# Find out the mode of nums\n",
    "st.mode(nums)"
   ]
  },
  {
   "cell_type": "code",
   "execution_count": 14,
   "metadata": {},
   "outputs": [
    {
     "data": {
      "text/plain": [
       "ModeResult(mode=array([6]), count=array([5]))"
      ]
     },
     "execution_count": 14,
     "metadata": {},
     "output_type": "execute_result"
    }
   ],
   "source": [
    "stats.mode(nums)"
   ]
  },
  {
   "cell_type": "code",
   "execution_count": 15,
   "metadata": {},
   "outputs": [],
   "source": [
    "vals,counts = np.unique(nums, return_counts=True)"
   ]
  },
  {
   "cell_type": "code",
   "execution_count": 16,
   "metadata": {},
   "outputs": [
    {
     "data": {
      "text/plain": [
       "array([ 1,  2,  3,  4,  5,  6,  7,  8, 11, 44, 77])"
      ]
     },
     "execution_count": 16,
     "metadata": {},
     "output_type": "execute_result"
    }
   ],
   "source": [
    "vals"
   ]
  },
  {
   "cell_type": "code",
   "execution_count": 17,
   "metadata": {},
   "outputs": [
    {
     "data": {
      "text/plain": [
       "array([1, 1, 3, 1, 1, 5, 1, 1, 1, 1, 1], dtype=int64)"
      ]
     },
     "execution_count": 17,
     "metadata": {},
     "output_type": "execute_result"
    }
   ],
   "source": [
    "counts"
   ]
  },
  {
   "cell_type": "code",
   "execution_count": 20,
   "metadata": {},
   "outputs": [
    {
     "data": {
      "text/html": [
       "<div>\n",
       "<style scoped>\n",
       "    .dataframe tbody tr th:only-of-type {\n",
       "        vertical-align: middle;\n",
       "    }\n",
       "\n",
       "    .dataframe tbody tr th {\n",
       "        vertical-align: top;\n",
       "    }\n",
       "\n",
       "    .dataframe thead th {\n",
       "        text-align: right;\n",
       "    }\n",
       "</style>\n",
       "<table border=\"1\" class=\"dataframe\">\n",
       "  <thead>\n",
       "    <tr style=\"text-align: right;\">\n",
       "      <th></th>\n",
       "      <th>vals</th>\n",
       "      <th>counts</th>\n",
       "    </tr>\n",
       "  </thead>\n",
       "  <tbody>\n",
       "    <tr>\n",
       "      <th>0</th>\n",
       "      <td>1</td>\n",
       "      <td>1</td>\n",
       "    </tr>\n",
       "    <tr>\n",
       "      <th>1</th>\n",
       "      <td>2</td>\n",
       "      <td>1</td>\n",
       "    </tr>\n",
       "    <tr>\n",
       "      <th>2</th>\n",
       "      <td>3</td>\n",
       "      <td>3</td>\n",
       "    </tr>\n",
       "    <tr>\n",
       "      <th>3</th>\n",
       "      <td>4</td>\n",
       "      <td>1</td>\n",
       "    </tr>\n",
       "    <tr>\n",
       "      <th>4</th>\n",
       "      <td>5</td>\n",
       "      <td>1</td>\n",
       "    </tr>\n",
       "    <tr>\n",
       "      <th>5</th>\n",
       "      <td>6</td>\n",
       "      <td>5</td>\n",
       "    </tr>\n",
       "    <tr>\n",
       "      <th>6</th>\n",
       "      <td>7</td>\n",
       "      <td>1</td>\n",
       "    </tr>\n",
       "    <tr>\n",
       "      <th>7</th>\n",
       "      <td>8</td>\n",
       "      <td>1</td>\n",
       "    </tr>\n",
       "    <tr>\n",
       "      <th>8</th>\n",
       "      <td>11</td>\n",
       "      <td>1</td>\n",
       "    </tr>\n",
       "    <tr>\n",
       "      <th>9</th>\n",
       "      <td>44</td>\n",
       "      <td>1</td>\n",
       "    </tr>\n",
       "    <tr>\n",
       "      <th>10</th>\n",
       "      <td>77</td>\n",
       "      <td>1</td>\n",
       "    </tr>\n",
       "  </tbody>\n",
       "</table>\n",
       "</div>"
      ],
      "text/plain": [
       "    vals  counts\n",
       "0      1       1\n",
       "1      2       1\n",
       "2      3       3\n",
       "3      4       1\n",
       "4      5       1\n",
       "5      6       5\n",
       "6      7       1\n",
       "7      8       1\n",
       "8     11       1\n",
       "9     44       1\n",
       "10    77       1"
      ]
     },
     "execution_count": 20,
     "metadata": {},
     "output_type": "execute_result"
    }
   ],
   "source": [
    "pd.DataFrame({'values':vals, 'counts':counts})"
   ]
  },
  {
   "cell_type": "code",
   "execution_count": 16,
   "metadata": {},
   "outputs": [
    {
     "name": "stdout",
     "output_type": "stream",
     "text": [
      "76\n"
     ]
    }
   ],
   "source": [
    "# Finding the range \n",
    "num_range = max(nums) - min(nums)\n",
    "print(num_range)"
   ]
  },
  {
   "cell_type": "markdown",
   "metadata": {},
   "source": [
    "When the data size is small, one would want to use the standard deviation formula with Bessel’s correction (N-1 instead of N) for calculation purpose. For statistics package, one would want to use stdev method. For Numpy std() method, you would want to pass the parameter ddof as 1. When the data size is decently large enough, one could use default std() method of Numpy or pstdev() method of statistics package."
   ]
  },
  {
   "cell_type": "code",
   "execution_count": 17,
   "metadata": {},
   "outputs": [
    {
     "data": {
      "text/plain": [
       "19.43881804685726"
      ]
     },
     "execution_count": 17,
     "metadata": {},
     "output_type": "execute_result"
    }
   ],
   "source": [
    "# Standard deviation for sample\n",
    "st.stdev(nums)"
   ]
  },
  {
   "cell_type": "code",
   "execution_count": 18,
   "metadata": {},
   "outputs": [
    {
     "data": {
      "text/plain": [
       "18.858423539848303"
      ]
     },
     "execution_count": 18,
     "metadata": {},
     "output_type": "execute_result"
    }
   ],
   "source": [
    "st.pstdev(nums)"
   ]
  },
  {
   "cell_type": "code",
   "execution_count": 19,
   "metadata": {},
   "outputs": [
    {
     "data": {
      "text/plain": [
       "18.858423539848303"
      ]
     },
     "execution_count": 19,
     "metadata": {},
     "output_type": "execute_result"
    }
   ],
   "source": [
    "# Standard deviation for population\n",
    "np.std(nums)"
   ]
  },
  {
   "cell_type": "code",
   "execution_count": 20,
   "metadata": {},
   "outputs": [
    {
     "data": {
      "text/plain": [
       "19.43881804685726"
      ]
     },
     "execution_count": 20,
     "metadata": {},
     "output_type": "execute_result"
    }
   ],
   "source": [
    "# Standard deviation for sample- ddof  delta degree of freedom\n",
    "np.std(nums, ddof=1)"
   ]
  },
  {
   "cell_type": "code",
   "execution_count": 21,
   "metadata": {},
   "outputs": [
    {
     "data": {
      "text/plain": [
       "355.64013840830455"
      ]
     },
     "execution_count": 21,
     "metadata": {},
     "output_type": "execute_result"
    }
   ],
   "source": [
    "# Calculating variance for population\n",
    "np.var(nums)"
   ]
  },
  {
   "cell_type": "code",
   "execution_count": 22,
   "metadata": {},
   "outputs": [
    {
     "data": {
      "text/plain": [
       "377.8676470588236"
      ]
     },
     "execution_count": 22,
     "metadata": {},
     "output_type": "execute_result"
    }
   ],
   "source": [
    "# Calculating variance using numpy ddof = 1 for sample\n",
    "np.var(nums, ddof = 1)"
   ]
  },
  {
   "cell_type": "code",
   "execution_count": 23,
   "metadata": {},
   "outputs": [
    {
     "data": {
      "text/plain": [
       "377.8676470588236"
      ]
     },
     "execution_count": 23,
     "metadata": {},
     "output_type": "execute_result"
    }
   ],
   "source": [
    "# Calculating variance for sample\n",
    "st.variance(nums)\n"
   ]
  },
  {
   "cell_type": "code",
   "execution_count": 24,
   "metadata": {},
   "outputs": [
    {
     "data": {
      "text/plain": [
       "355.64013840830455"
      ]
     },
     "execution_count": 24,
     "metadata": {},
     "output_type": "execute_result"
    }
   ],
   "source": [
    "# Calculating variance for population\n",
    "st.pvariance(nums)"
   ]
  },
  {
   "cell_type": "code",
   "execution_count": 25,
   "metadata": {},
   "outputs": [
    {
     "data": {
      "text/plain": [
       "6.0"
      ]
     },
     "execution_count": 25,
     "metadata": {},
     "output_type": "execute_result"
    }
   ],
   "source": [
    "# Calculating Quantiles\n",
    "# 50th quantile - median\n",
    "np.quantile(nums,  0.5)"
   ]
  },
  {
   "cell_type": "code",
   "execution_count": 26,
   "metadata": {},
   "outputs": [
    {
     "data": {
      "text/plain": [
       "3.0"
      ]
     },
     "execution_count": 26,
     "metadata": {},
     "output_type": "execute_result"
    }
   ],
   "source": [
    "np.quantile(nums, .25)"
   ]
  },
  {
   "cell_type": "code",
   "execution_count": 27,
   "metadata": {},
   "outputs": [
    {
     "data": {
      "text/plain": [
       "77.0"
      ]
     },
     "execution_count": 27,
     "metadata": {},
     "output_type": "execute_result"
    }
   ],
   "source": [
    "np.quantile(nums,1)"
   ]
  },
  {
   "cell_type": "code",
   "execution_count": 28,
   "metadata": {},
   "outputs": [
    {
     "data": {
      "text/plain": [
       "4.0"
      ]
     },
     "execution_count": 28,
     "metadata": {},
     "output_type": "execute_result"
    }
   ],
   "source": [
    "# Interquartile = IQR = Q3-Q1\n",
    "np.percentile(nums, 75) - np.percentile(nums, 25)"
   ]
  },
  {
   "cell_type": "code",
   "execution_count": 29,
   "metadata": {},
   "outputs": [
    {
     "name": "stdout",
     "output_type": "stream",
     "text": [
      "4.0\n"
     ]
    }
   ],
   "source": [
    "from scipy import stats\n",
    "IQR = stats.iqr(nums)\n",
    "print(IQR)"
   ]
  },
  {
   "cell_type": "code",
   "execution_count": 7,
   "metadata": {},
   "outputs": [],
   "source": [
    "mylist = [100, 120, 140, 124, 133, 144, 70, 80, 95, 109, 160,161]"
   ]
  },
  {
   "cell_type": "code",
   "execution_count": 8,
   "metadata": {},
   "outputs": [
    {
     "data": {
      "text/plain": [
       "[70, 80, 95, 100, 109, 120, 124, 133, 140, 144, 160, 161]"
      ]
     },
     "execution_count": 8,
     "metadata": {},
     "output_type": "execute_result"
    }
   ],
   "source": [
    "mylist.sort()\n",
    "mylist"
   ]
  },
  {
   "cell_type": "code",
   "execution_count": 13,
   "metadata": {},
   "outputs": [
    {
     "data": {
      "text/plain": [
       "0.75"
      ]
     },
     "execution_count": 13,
     "metadata": {},
     "output_type": "execute_result"
    }
   ],
   "source": [
    "9/12"
   ]
  },
  {
   "cell_type": "code",
   "execution_count": 9,
   "metadata": {},
   "outputs": [
    {
     "name": "stdout",
     "output_type": "stream",
     "text": [
      "98.75\n"
     ]
    }
   ],
   "source": [
    "# Find out Quantiles\n",
    "import numpy as np\n",
    "q1 = np.quantile(mylist, .25)\n",
    "print(q1)"
   ]
  },
  {
   "cell_type": "code",
   "execution_count": 10,
   "metadata": {},
   "outputs": [
    {
     "name": "stdout",
     "output_type": "stream",
     "text": [
      "141.0\n"
     ]
    }
   ],
   "source": [
    "q3 = np.quantile(mylist, .75)\n",
    "print(q3)"
   ]
  },
  {
   "cell_type": "code",
   "execution_count": 11,
   "metadata": {},
   "outputs": [],
   "source": [
    "q = np.quantile(mylist, [.25,.50,.75])"
   ]
  },
  {
   "cell_type": "code",
   "execution_count": 12,
   "metadata": {},
   "outputs": [
    {
     "name": "stdout",
     "output_type": "stream",
     "text": [
      "[ 98.75 122.   141.  ]\n"
     ]
    }
   ],
   "source": [
    "print(q)"
   ]
  },
  {
   "cell_type": "code",
   "execution_count": 36,
   "metadata": {},
   "outputs": [],
   "source": [
    "import matplotlib.pyplot as plt\n",
    "import seaborn as sns"
   ]
  },
  {
   "cell_type": "code",
   "execution_count": 37,
   "metadata": {},
   "outputs": [
    {
     "data": {
      "text/plain": [
       "<matplotlib.axes._subplots.AxesSubplot at 0x179038c6e88>"
      ]
     },
     "execution_count": 37,
     "metadata": {},
     "output_type": "execute_result"
    },
    {
     "data": {
      "image/png": "[encoded data removed]",
      "text/plain": [
       "<Figure size 432x288 with 1 Axes>"
      ]
     },
     "metadata": {
      "needs_background": "light"
     },
     "output_type": "display_data"
    }
   ],
   "source": [
    "sns.boxplot(mylist)"
   ]
  },
  {
   "cell_type": "code",
   "execution_count": 38,
   "metadata": {},
   "outputs": [
    {
     "data": {
      "text/plain": [
       "array([ 1.        ,  7.33333333, 13.66666667, 20.        ])"
      ]
     },
     "execution_count": 38,
     "metadata": {},
     "output_type": "execute_result"
    }
   ],
   "source": [
    "# line Space\n",
    "np.linspace(1,20,4)"
   ]
  },
  {
   "cell_type": "markdown",
   "metadata": {},
   "source": [
    "# Understanding Probability Concepts "
   ]
  },
  {
   "cell_type": "code",
   "execution_count": 39,
   "metadata": {},
   "outputs": [],
   "source": [
    "# Head - if number is less than 0.5\n",
    "# Tail - if number is greater or equal to 0.5\n"
   ]
  },
  {
   "cell_type": "code",
   "execution_count": 83,
   "metadata": {},
   "outputs": [
    {
     "data": {
      "text/plain": [
       "0.7799187922401146"
      ]
     },
     "execution_count": 83,
     "metadata": {},
     "output_type": "execute_result"
    }
   ],
   "source": [
    "np.random.rand()"
   ]
  },
  {
   "cell_type": "code",
   "execution_count": 97,
   "metadata": {},
   "outputs": [],
   "source": [
    "# To get same number again and again\n",
    "np.random.seed(7)\n",
    "np.random.rand()"
   ]
  },
  {
   "cell_type": "code",
   "execution_count": 23,
   "metadata": {},
   "outputs": [],
   "source": [
    "def Tossing_coin():\n",
    "    num = np.random.rand()\n",
    "    if num < 0.5:\n",
    "        print(num)\n",
    "        print('HEAD')\n",
    "    else:\n",
    "        print(num)\n",
    "        print('TAIL')"
   ]
  },
  {
   "cell_type": "code",
   "execution_count": 24,
   "metadata": {},
   "outputs": [
    {
     "name": "stdout",
     "output_type": "stream",
     "text": [
      "0.25032490706858723\n",
      "HEAD\n"
     ]
    }
   ],
   "source": [
    "Tossing_coin()"
   ]
  },
  {
   "cell_type": "code",
   "execution_count": 105,
   "metadata": {},
   "outputs": [
    {
     "data": {
      "text/plain": [
       "array([0.26843898, 0.4998825 , 0.67923   , 0.80373904, 0.38094113])"
      ]
     },
     "execution_count": 105,
     "metadata": {},
     "output_type": "execute_result"
    }
   ],
   "source": [
    "# Generating 5 differnt random numbers\n",
    "np.random.rand(5)"
   ]
  },
  {
   "cell_type": "code",
   "execution_count": 106,
   "metadata": {},
   "outputs": [
    {
     "data": {
      "text/plain": [
       "array([False, False,  True, False, False])"
      ]
     },
     "execution_count": 106,
     "metadata": {},
     "output_type": "execute_result"
    }
   ],
   "source": [
    "np.random.rand(5)>0.5"
   ]
  },
  {
   "cell_type": "code",
   "execution_count": 107,
   "metadata": {},
   "outputs": [
    {
     "data": {
      "text/plain": [
       "3"
      ]
     },
     "execution_count": 107,
     "metadata": {},
     "output_type": "execute_result"
    }
   ],
   "source": [
    "# Number of tails \n",
    "sum(np.random.rand(5)>0.5)"
   ]
  },
  {
   "cell_type": "code",
   "execution_count": 108,
   "metadata": {},
   "outputs": [
    {
     "data": {
      "text/plain": [
       "array([[0.54848992, 0.90912837],\n",
       "       [0.13316945, 0.52341258],\n",
       "       [0.75040986, 0.66901324]])"
      ]
     },
     "execution_count": 108,
     "metadata": {},
     "output_type": "execute_result"
    }
   ],
   "source": [
    "# Creating a matrix of 3,2 of random numbers\n",
    "np.random.rand(3,2)"
   ]
  },
  {
   "cell_type": "code",
   "execution_count": 112,
   "metadata": {},
   "outputs": [
    {
     "data": {
      "text/plain": [
       "1"
      ]
     },
     "execution_count": 112,
     "metadata": {},
     "output_type": "execute_result"
    }
   ],
   "source": [
    "# Creating random numbers that are integers\n",
    "# This will give us random nubmer o or 1\n",
    "np.random.randint(0,2)"
   ]
  },
  {
   "cell_type": "code",
   "execution_count": 113,
   "metadata": {},
   "outputs": [
    {
     "data": {
      "text/plain": [
       "array([7, 7, 9])"
      ]
     },
     "execution_count": 113,
     "metadata": {},
     "output_type": "execute_result"
    }
   ],
   "source": [
    "np.random.randint(0,10,3)"
   ]
  },
  {
   "cell_type": "code",
   "execution_count": 114,
   "metadata": {},
   "outputs": [
    {
     "data": {
      "text/plain": [
       "array([1, 0, 1, 1, 1, 0, 1, 0, 1, 0])"
      ]
     },
     "execution_count": 114,
     "metadata": {},
     "output_type": "execute_result"
    }
   ],
   "source": [
    "# Flipping of 10 coins \n",
    "np.random.randint(0,2,10)"
   ]
  },
  {
   "cell_type": "code",
   "execution_count": 118,
   "metadata": {},
   "outputs": [
    {
     "name": "stdout",
     "output_type": "stream",
     "text": [
      "5\n"
     ]
    }
   ],
   "source": [
    "# Head = 0\n",
    "# Tails = 1\n",
    "num_tails = sum(np.random.randint(0,2,10))\n",
    "print(num_tails)"
   ]
  },
  {
   "cell_type": "code",
   "execution_count": 123,
   "metadata": {},
   "outputs": [
    {
     "data": {
      "text/plain": [
       "4"
      ]
     },
     "execution_count": 123,
     "metadata": {},
     "output_type": "execute_result"
    }
   ],
   "source": [
    "# Rolling a dice\n",
    "np.random.randint(1,7)"
   ]
  },
  {
   "cell_type": "code",
   "execution_count": 124,
   "metadata": {},
   "outputs": [
    {
     "data": {
      "text/plain": [
       "array([4, 1, 5, 4, 1, 3, 3, 4, 6, 3])"
      ]
     },
     "execution_count": 124,
     "metadata": {},
     "output_type": "execute_result"
    }
   ],
   "source": [
    "# Rolling a dice 10 times or 10 different dice\n",
    "np.random.randint(1,7,10)"
   ]
  },
  {
   "cell_type": "code",
   "execution_count": 128,
   "metadata": {},
   "outputs": [
    {
     "data": {
      "text/plain": [
       "<matplotlib.axes._subplots.AxesSubplot at 0x17905014208>"
      ]
     },
     "execution_count": 128,
     "metadata": {},
     "output_type": "execute_result"
    },
    {
     "data": {
      "image/png": "[encoded data removed]",
      "text/plain": [
       "<Figure size 432x288 with 1 Axes>"
      ]
     },
     "metadata": {},
     "output_type": "display_data"
    }
   ],
   "source": [
    "# How many times different nubmers I am getting when I roll dice 1000 times\n",
    "# histogram\n",
    "sns.set_style(\"whitegrid\")\n",
    "ax = np.random.randint(1,7,6000)\n",
    "sns.countplot(ax)"
   ]
  },
  {
   "cell_type": "markdown",
   "metadata": {},
   "source": [
    "# When two dice are rolled what is the probability of getting number greater than 9\n",
    "6,6 - 1/36\n",
    "6,5 - 1/18\n",
    "5,5 - 1/36\n",
    "1+2+1/36\n",
    "\n"
   ]
  },
  {
   "cell_type": "markdown",
   "metadata": {},
   "source": [
    "# When two dice are rolled what is the probability of getting number greater than 7\n",
    "2,6 - 2/36\n",
    "3,6 - 2/36\n",
    "3,5 - 2/36\n",
    "4,4 - 1/36\n",
    "4,5 - 2/36\n",
    "4,6 - 2/36\n",
    "5,6 - 2/36\n",
    "5,5 - 1/36\n",
    "6,6 - 1/36\n",
    "\n",
    "= 15/36 \n",
    "\n"
   ]
  },
  {
   "cell_type": "markdown",
   "metadata": {},
   "source": [
    "8 - 4,4 - 3,5 - 2,6 - 5,3 - 6,2  = 5 ways\n",
    "9 - 4,5 - 5,4 - 6,3 - 3,6  = 4 ways\n",
    "10 - 5,5 - 4,6 - 6,4 = 3 ways\n",
    "11 - 5,6 - 6,5 = 2 ways\n",
    "12 - 6,6   = 1 way\n",
    "\n",
    "totals ways of getting greater than 7 = 15 ways\n",
    "\n",
    "Total ways = \n",
    "2 - 1 way\n",
    "3 - 2 ways\n",
    "4 - 3 ways\n",
    "5 - 4 ways\n",
    "6 - 5 ways\n",
    "7 - 6 ways\n",
    "8 - 5 ways\n",
    "9 - 4 ways\n",
    "10 - 3 ways\n",
    "11 - 2 ways\n",
    "12 - 1 way\n",
    "Total ways = 36\n",
    "\n",
    "Hence probability = 15/36\n",
    "\n",
    "\n",
    "\n"
   ]
  },
  {
   "cell_type": "code",
   "execution_count": 129,
   "metadata": {},
   "outputs": [],
   "source": [
    "die1 = np.random.randint(1,7,10)\n",
    "die2 = np.random.randint(1,7,10)"
   ]
  },
  {
   "cell_type": "code",
   "execution_count": 130,
   "metadata": {},
   "outputs": [],
   "source": [
    "die_sum = die1 + die2"
   ]
  },
  {
   "cell_type": "code",
   "execution_count": 131,
   "metadata": {},
   "outputs": [
    {
     "data": {
      "text/plain": [
       "array([ 7,  9,  9,  4,  7, 12,  5,  8, 10,  8])"
      ]
     },
     "execution_count": 131,
     "metadata": {},
     "output_type": "execute_result"
    }
   ],
   "source": [
    "die_sum"
   ]
  },
  {
   "cell_type": "code",
   "execution_count": 132,
   "metadata": {},
   "outputs": [
    {
     "data": {
      "text/plain": [
       "4197"
      ]
     },
     "execution_count": 132,
     "metadata": {},
     "output_type": "execute_result"
    }
   ],
   "source": [
    "# rolling the die 10 thousand times\n",
    "die1 = np.random.randint(1,7,10000)\n",
    "die2 = np.random.randint(1,7,10000)\n",
    "die_sum = die1 + die2\n",
    "sum(die_sum >7)"
   ]
  },
  {
   "cell_type": "code",
   "execution_count": 133,
   "metadata": {},
   "outputs": [],
   "source": [
    "# If I roll die 10 thousand time than 4197 times the sum is greater than 7\n",
    "probability = 4197/10000"
   ]
  },
  {
   "cell_type": "code",
   "execution_count": 134,
   "metadata": {},
   "outputs": [
    {
     "data": {
      "text/plain": [
       "0.4197"
      ]
     },
     "execution_count": 134,
     "metadata": {},
     "output_type": "execute_result"
    }
   ],
   "source": [
    "probability "
   ]
  },
  {
   "cell_type": "code",
   "execution_count": 135,
   "metadata": {},
   "outputs": [
    {
     "data": {
      "text/plain": [
       "0.4166666666666667"
      ]
     },
     "execution_count": 135,
     "metadata": {},
     "output_type": "execute_result"
    }
   ],
   "source": [
    "15/36"
   ]
  },
  {
   "cell_type": "code",
   "execution_count": 136,
   "metadata": {},
   "outputs": [
    {
     "data": {
      "text/plain": [
       "0.75"
      ]
     },
     "execution_count": 136,
     "metadata": {},
     "output_type": "execute_result"
    }
   ],
   "source": [
    "0.12 + 0.16 + 0.01 + 0.14 + 0.11 +0.21 "
   ]
  },
  {
   "cell_type": "markdown",
   "metadata": {},
   "source": [
    "# Binomail Distribution "
   ]
  },
  {
   "cell_type": "code",
   "execution_count": 137,
   "metadata": {},
   "outputs": [
    {
     "data": {
      "text/plain": [
       "1"
      ]
     },
     "execution_count": 137,
     "metadata": {},
     "output_type": "execute_result"
    }
   ],
   "source": [
    "# Getting binomila distribution where n = 1 and probability of success is 0.5\n",
    "# Flipping one coin\n",
    "# Number of getting one head\n",
    "np.random.binomial(1, 0.5)"
   ]
  },
  {
   "cell_type": "code",
   "execution_count": 140,
   "metadata": {},
   "outputs": [
    {
     "data": {
      "text/plain": [
       "1"
      ]
     },
     "execution_count": 140,
     "metadata": {},
     "output_type": "execute_result"
    }
   ],
   "source": [
    "# Flipping 2 coins\n",
    "# Number of getting heads\n",
    "np.random.binomial(2, 0.5)"
   ]
  },
  {
   "cell_type": "code",
   "execution_count": 145,
   "metadata": {},
   "outputs": [],
   "source": [
    "# Flipping 2 coins 10000 times\n",
    "# Number of getting heads\n",
    "num_heads = np.random.binomial(2, 0.5, size = 1000)"
   ]
  },
  {
   "cell_type": "code",
   "execution_count": 146,
   "metadata": {},
   "outputs": [
    {
     "data": {
      "text/plain": [
       "array([2, 1, 1, 0, 1, 2, 1, 1, 1, 0, 2, 0, 1, 2, 0, 1, 1, 1, 1, 1, 2, 1,\n",
       "       0, 1, 2, 0, 2, 1, 1, 1, 0, 2, 1, 0, 0, 2, 0, 0, 0, 0, 0, 1, 2, 1,\n",
       "       0, 1, 0, 2, 2, 1, 1, 1, 0, 2, 1, 2, 1, 0, 1, 2, 1, 2, 2, 0, 1, 1,\n",
       "       0, 2, 2, 1, 2, 0, 1, 0, 1, 0, 1, 2, 1, 1, 1, 0, 1, 2, 1, 1, 0, 1,\n",
       "       1, 1, 2, 1, 1, 1, 1, 1, 2, 1, 1, 1, 1, 0, 2, 1, 0, 0, 0, 1, 2, 2,\n",
       "       0, 0, 1, 0, 1, 0, 1, 1, 2, 2, 1, 1, 2, 0, 2, 1, 2, 0, 1, 1, 2, 2,\n",
       "       2, 0, 0, 2, 0, 2, 1, 0, 0, 1, 1, 1, 1, 1, 0, 1, 0, 1, 2, 2, 1, 1,\n",
       "       1, 2, 0, 0, 1, 0, 0, 0, 0, 0, 0, 0, 0, 1, 0, 1, 0, 2, 2, 1, 1, 1,\n",
       "       1, 1, 1, 2, 1, 1, 1, 2, 0, 1, 1, 2, 0, 1, 1, 1, 1, 0, 2, 2, 1, 1,\n",
       "       1, 1, 1, 1, 1, 1, 1, 0, 2, 1, 1, 1, 1, 1, 1, 1, 0, 0, 2, 0, 2, 1,\n",
       "       2, 0, 0, 1, 1, 1, 1, 0, 2, 1, 0, 1, 1, 1, 1, 1, 2, 2, 1, 2, 1, 1,\n",
       "       2, 0, 1, 1, 1, 2, 1, 1, 2, 0, 2, 0, 2, 1, 0, 1, 1, 1, 1, 2, 1, 2,\n",
       "       1, 0, 1, 2, 1, 1, 0, 1, 1, 1, 1, 0, 1, 1, 1, 1, 2, 1, 1, 1, 1, 1,\n",
       "       1, 0, 2, 1, 2, 1, 2, 1, 1, 0, 1, 1, 1, 2, 1, 0, 2, 2, 1, 1, 1, 2,\n",
       "       1, 0, 1, 1, 2, 1, 1, 1, 2, 0, 1, 1, 1, 2, 2, 2, 0, 1, 0, 0, 1, 2,\n",
       "       0, 2, 0, 0, 1, 2, 1, 0, 2, 1, 1, 1, 1, 2, 2, 0, 1, 2, 1, 1, 1, 1,\n",
       "       1, 1, 1, 0, 1, 1, 0, 1, 0, 1, 0, 1, 1, 1, 1, 2, 1, 0, 1, 1, 2, 2,\n",
       "       0, 1, 0, 1, 0, 0, 1, 2, 2, 1, 2, 1, 1, 1, 1, 2, 1, 2, 1, 2, 1, 2,\n",
       "       2, 1, 1, 1, 0, 1, 1, 0, 1, 1, 2, 0, 1, 0, 0, 0, 1, 0, 1, 1, 1, 2,\n",
       "       1, 1, 1, 0, 1, 1, 2, 2, 2, 2, 1, 1, 0, 1, 2, 1, 1, 1, 0, 1, 1, 2,\n",
       "       1, 2, 1, 1, 0, 0, 2, 2, 1, 0, 0, 0, 0, 1, 2, 2, 2, 1, 2, 1, 1, 1,\n",
       "       1, 1, 2, 0, 0, 0, 1, 0, 1, 1, 1, 2, 2, 2, 0, 1, 1, 1, 0, 1, 1, 1,\n",
       "       1, 1, 1, 1, 1, 1, 1, 2, 1, 1, 0, 0, 1, 0, 0, 1, 2, 0, 1, 2, 2, 0,\n",
       "       2, 1, 1, 1, 1, 1, 1, 0, 0, 1, 0, 2, 2, 2, 2, 2, 1, 1, 2, 2, 1, 1,\n",
       "       0, 0, 2, 0, 1, 1, 2, 0, 0, 0, 0, 1, 2, 2, 0, 0, 1, 2, 2, 2, 2, 2,\n",
       "       1, 2, 1, 1, 0, 0, 1, 2, 1, 1, 1, 1, 0, 0, 2, 1, 1, 0, 0, 1, 1, 0,\n",
       "       1, 1, 0, 0, 0, 1, 1, 0, 1, 1, 2, 1, 1, 0, 0, 1, 0, 2, 0, 0, 1, 1,\n",
       "       1, 1, 1, 0, 1, 0, 1, 1, 1, 2, 1, 1, 2, 1, 1, 0, 1, 2, 2, 2, 1, 1,\n",
       "       2, 1, 1, 1, 1, 2, 1, 1, 2, 1, 0, 1, 1, 1, 2, 0, 1, 1, 0, 2, 2, 2,\n",
       "       1, 1, 2, 1, 2, 2, 1, 2, 0, 0, 0, 1, 1, 0, 1, 0, 1, 2, 0, 1, 1, 2,\n",
       "       1, 1, 1, 1, 2, 1, 1, 0, 1, 1, 0, 1, 1, 0, 1, 1, 2, 1, 0, 1, 0, 1,\n",
       "       1, 1, 1, 1, 1, 1, 2, 1, 2, 1, 1, 0, 2, 1, 1, 1, 2, 0, 1, 0, 1, 1,\n",
       "       1, 1, 1, 1, 0, 0, 2, 1, 0, 2, 1, 1, 0, 1, 1, 1, 1, 2, 1, 2, 1, 1,\n",
       "       0, 1, 1, 0, 0, 0, 1, 1, 1, 1, 2, 2, 2, 1, 0, 1, 2, 1, 1, 0, 1, 1,\n",
       "       2, 1, 1, 1, 0, 1, 1, 2, 1, 1, 0, 0, 2, 1, 0, 0, 1, 1, 1, 1, 1, 1,\n",
       "       1, 0, 2, 0, 1, 0, 2, 0, 2, 1, 1, 0, 2, 2, 0, 0, 2, 1, 0, 1, 2, 2,\n",
       "       2, 1, 2, 0, 1, 0, 2, 0, 0, 1, 2, 1, 2, 2, 2, 1, 0, 1, 1, 1, 0, 0,\n",
       "       0, 0, 1, 1, 0, 1, 1, 2, 1, 1, 2, 2, 0, 2, 2, 1, 1, 1, 2, 2, 1, 1,\n",
       "       1, 2, 1, 0, 1, 1, 0, 0, 0, 0, 1, 0, 0, 2, 2, 1, 1, 1, 1, 1, 1, 1,\n",
       "       0, 1, 0, 2, 1, 1, 1, 2, 1, 2, 0, 1, 1, 1, 2, 2, 0, 2, 2, 2, 2, 2,\n",
       "       2, 2, 1, 2, 1, 0, 2, 0, 2, 2, 1, 2, 2, 1, 1, 1, 0, 1, 0, 2, 1, 2,\n",
       "       1, 1, 1, 1, 0, 2, 2, 1, 2, 2, 1, 1, 1, 1, 2, 1, 1, 1, 1, 1, 0, 0,\n",
       "       2, 2, 0, 1, 2, 2, 1, 0, 1, 1, 1, 1, 1, 2, 2, 2, 1, 2, 2, 2, 1, 1,\n",
       "       2, 1, 2, 1, 2, 0, 0, 1, 1, 1, 1, 1, 1, 1, 2, 0, 1, 1, 0, 1, 1, 0,\n",
       "       0, 2, 1, 1, 2, 1, 2, 1, 1, 1, 0, 2, 2, 0, 1, 1, 1, 1, 1, 2, 2, 1,\n",
       "       0, 0, 1, 2, 1, 2, 1, 1, 2, 1])"
      ]
     },
     "execution_count": 146,
     "metadata": {},
     "output_type": "execute_result"
    }
   ],
   "source": [
    "num_heads"
   ]
  },
  {
   "cell_type": "code",
   "execution_count": 147,
   "metadata": {},
   "outputs": [
    {
     "data": {
      "text/plain": [
       "<matplotlib.axes._subplots.AxesSubplot at 0x179055e2788>"
      ]
     },
     "execution_count": 147,
     "metadata": {},
     "output_type": "execute_result"
    },
    {
     "data": {
      "image/png": "[encoded data removed]",
      "text/plain": [
       "<Figure size 432x288 with 1 Axes>"
      ]
     },
     "metadata": {},
     "output_type": "display_data"
    }
   ],
   "source": [
    "# probability of getting 0 head - 0.25\n",
    "# probability of getting 1 head - 0.5\n",
    "# probability of getting 2 head - 0.25\n",
    "sns.countplot(num_heads)\n"
   ]
  },
  {
   "cell_type": "code",
   "execution_count": 148,
   "metadata": {},
   "outputs": [],
   "source": [
    "# Flipping 10 coins \n",
    "# Number of getting heads\n",
    "num_heads = np.random.binomial(10, 0.5, size = 1000)"
   ]
  },
  {
   "cell_type": "code",
   "execution_count": 149,
   "metadata": {},
   "outputs": [
    {
     "data": {
      "text/plain": [
       "<matplotlib.axes._subplots.AxesSubplot at 0x179056cf748>"
      ]
     },
     "execution_count": 149,
     "metadata": {},
     "output_type": "execute_result"
    },
    {
     "data": {
      "image/png": "[encoded data removed]",
      "text/plain": [
       "<Figure size 432x288 with 1 Axes>"
      ]
     },
     "metadata": {},
     "output_type": "display_data"
    }
   ],
   "source": [
    "# probability of getting 0 head - 0.25\n",
    "# probability of getting 1 head - 0.5\n",
    "# probability of getting 2 head - 0.25\n",
    "sns.countplot(num_heads)"
   ]
  },
  {
   "cell_type": "code",
   "execution_count": 150,
   "metadata": {},
   "outputs": [],
   "source": [
    "# A manufacturer has 15% defective rate in production. The buyer decides to test 20 random pieces  & will accept \n",
    "# the supplier if there are 2 or less defectives. What is the probability  of getting accepted?"
   ]
  },
  {
   "cell_type": "code",
   "execution_count": 151,
   "metadata": {},
   "outputs": [],
   "source": [
    "two_rej = np.random.binomial(20, 0.15, 10)"
   ]
  },
  {
   "cell_type": "code",
   "execution_count": 152,
   "metadata": {},
   "outputs": [
    {
     "name": "stdout",
     "output_type": "stream",
     "text": [
      "[7 2 6 4 0 2 1 3 1 2]\n"
     ]
    }
   ],
   "source": [
    "# When we run it 1st time we got 7 defective items\n",
    "# When we run it 2nd time we got 2 defective items\n",
    "# 10th time we got 2 defective items\n",
    "print(two_rej)"
   ]
  },
  {
   "cell_type": "code",
   "execution_count": 153,
   "metadata": {},
   "outputs": [
    {
     "name": "stdout",
     "output_type": "stream",
     "text": [
      "[2 3 2 1 1 3 4 4 2 2 0 5 5 4 4 2 5 4 3 3 2 3 3 5 3 3 1 4 6 3 1 6 5 3 2 5 3\n",
      " 6 3 3 2 3 1 1 4 2 5 2 1 2 0 3 3 4 5 6 2 0 4 4 7 3 4 5 2 5 3 2 4 4 2 3 3 3\n",
      " 2 0 2 3 3 1 4 1 4 2 5 4 2 3 7 1 3 2 2 4 5 3 3 1 2 4 1 5 3 5 3 3 5 2 4 4 2\n",
      " 1 4 1 3 3 2 3 2 5 3 3 4 1 3 4 3 3 4 4 2 2 2 1 2 4 0 4 0 3 2 1 3 1 2 1 2 3\n",
      " 3 7 2 3 4 2 5 4 3 2 3 4 3 2 1 4 4 1 1 4 3 4 0 2 5 1 6 1 5 3 4 1 0 4 4 2 3\n",
      " 5 2 2 4 1 6 4 4 0 1 2 3 6 1 1 1 3 1 4 1 2 1 4 4 4 2 3 5 0 2 4 4 1 3 5 5 3\n",
      " 1 3 2 1 3 6 2 3 3 6 5 1 3 5 2 1 2 2 0 3 6 1 1 4 1 5 7 6 2 3 3 3 3 6 2 7 4\n",
      " 5 6 4 4 7 2 2 4 2 3 4 5 2 5 5 5 1 3 5 4 5 5 2 5 4 0 3 2 2 5 3 4 1 2 3 2 4\n",
      " 2 2 4 3 4 5 2 2 0 4 6 5 5 3 3 3 4 2 3 6 3 3 2 0 2 2 2 2 3 6 3 3 3 0 2 4 6\n",
      " 1 2 3 3 3 2 1 6 2 4 2 1 3 2 1 5 3 1 0 2 0 2 3 2 4 3 1 3 2 2 3 2 3 6 3 6 2\n",
      " 6 4 5 2 0 4 2 3 4 2 1 0 6 3 1 2 5 3 0 2 4 1 2 3 6 3 9 4 3 3 4 2 4 3 3 3 2\n",
      " 5 3 2 5 1 3 1 4 3 5 1 4 4 2 1 3 4 1 0 2 5 2 3 4 4 1 1 3 3 2 4 5 4 3 5 3 5\n",
      " 3 3 1 3 3 2 3 3 7 3 1 0 2 3 2 2 4 5 1 3 4 5 3 3 6 3 3 5 4 2 1 4 4 4 2 6 2\n",
      " 3 4 0 2 2 5 2 6 4 2 5 1 5 3 4 4 4 2 7 2 3 4 5 2 3 4 6 4 4 3 4 4 2 4 5 4 2\n",
      " 6 6 3 0 3 5 2 4 3 1 4 5 1 3 1 4 3 1 5 5 2 1 2 7 2 2 3 5 3 7 2 3 3 8 2 4 1\n",
      " 4 4 4 4 8 4 4 3 4 7 0 1 3 2 4 2 3 3 0 4 4 0 2 7 2 1 1 1 6 2 3 4 3 3 4 3 2\n",
      " 2 5 1 2 1 2 6 2 4 3 4 4 4 6 5 3 3 3 4 1 2 2 3 1 2 5 2 5 0 4 3 3 6 3 3 2 3\n",
      " 2 3 3 5 2 2 2 5 2 2 4 2 7 3 6 4 2 3 2 2 4 3 5 1 3 3 1 4 4 7 2 3 0 5 4 4 3\n",
      " 1 3 2 3 2 5 2 4 6 2 5 6 2 4 4 3 3 3 5 3 3 4 2 3 2 3 2 3 0 6 5 4 3 5 3 5 2\n",
      " 4 4 1 0 3 1 3 5 4 5 4 2 2 7 4 2 1 3 1 2 3 2 3 2 5 2 2 2 5 4 6 3 4 3 2 1 4\n",
      " 4 3 3 2 3 1 2 2 5 4 2 3 2 2 1 2 1 8 1 2 2 1 5 2 5 2 5 5 5 3 2 3 3 2 1 3 5\n",
      " 2 3 5 2 2 3 3 3 0 4 2 2 2 1 4 2 0 3 3 2 4 2 8 5 1 1 2 4 4 4 2 2 3 3 7 4 5\n",
      " 4 2 6 2 3 2 5 0 1 3 0 3 4 0 4 2 2 2 2 4 3 5 4 1 6 1 1 4 2 5 3 2 3 1 1 3 2\n",
      " 4 0 3 4 2 2 3 2 1 3 6 2 1 1 4 1 4 2 4 3 2 1 1 4 3 4 6 3 4 6 0 3 1 1 6 5 3\n",
      " 3 6 2 2 0 4 5 1 2 3 3 5 2 7 2 0 2 4 3 4 4 2 5 4 5 2 3 4 1 3 1 5 1 1 4 2 0\n",
      " 2 5 3 3 3 4 3 5 2 2 3 2 2 6 2 3 3 2 4 5 7 4 2 4 2 2 4 5 4 4 2 1 5 6 3 3 2\n",
      " 5 3 4 0 4 2 5 2 3 2 2 2 4 0 1 1 4 1 3 2 2 3 4 4 3 3 2 4 1 6 3 2 2 3 1 1 5\n",
      " 2]\n"
     ]
    }
   ],
   "source": [
    "# Running this experiment 1000 times\n",
    "two_rej = np.random.binomial(20, 0.15, 1000)\n",
    "print(two_rej)"
   ]
  },
  {
   "cell_type": "code",
   "execution_count": 154,
   "metadata": {},
   "outputs": [
    {
     "data": {
      "text/plain": [
       "<matplotlib.axes._subplots.AxesSubplot at 0x17904b8bf88>"
      ]
     },
     "execution_count": 154,
     "metadata": {},
     "output_type": "execute_result"
    },
    {
     "data": {
      "image/png": "[encoded data removed]",
      "text/plain": [
       "<Figure size 432x288 with 1 Axes>"
      ]
     },
     "metadata": {},
     "output_type": "display_data"
    }
   ],
   "source": [
    "sns.countplot(two_rej)"
   ]
  },
  {
   "cell_type": "code",
   "execution_count": 155,
   "metadata": {},
   "outputs": [],
   "source": [
    "# Here we are interested in 1st , 2nd and 3rd bar"
   ]
  },
  {
   "cell_type": "code",
   "execution_count": 156,
   "metadata": {},
   "outputs": [],
   "source": [
    "from scipy import stats"
   ]
  },
  {
   "cell_type": "code",
   "execution_count": 157,
   "metadata": {},
   "outputs": [],
   "source": [
    "from scipy.stats import binom"
   ]
  },
  {
   "cell_type": "code",
   "execution_count": 158,
   "metadata": {},
   "outputs": [
    {
     "data": {
      "text/plain": [
       "0.4048962780074351"
      ]
     },
     "execution_count": 158,
     "metadata": {},
     "output_type": "execute_result"
    }
   ],
   "source": [
    "# cdf - Cumulative Density Function - used for less than or equal to\n",
    "# k - 2 or less number of defective\n",
    "# n - 20 - how many piece you are selecting  \n",
    "# p - prbability = 0.15\n",
    "\n",
    "binom.cdf(2,20, 0.15)"
   ]
  },
  {
   "cell_type": "code",
   "execution_count": 159,
   "metadata": {},
   "outputs": [
    {
     "data": {
      "text/plain": [
       "0.22933840191875257"
      ]
     },
     "execution_count": 159,
     "metadata": {},
     "output_type": "execute_result"
    }
   ],
   "source": [
    "# Probability of getting exactly 2 defective\n",
    "# Probability mass function\n",
    "binom.pmf(2,20, 0.15)"
   ]
  },
  {
   "cell_type": "code",
   "execution_count": 161,
   "metadata": {},
   "outputs": [
    {
     "data": {
      "text/plain": [
       "3.0"
      ]
     },
     "execution_count": 161,
     "metadata": {},
     "output_type": "execute_result"
    }
   ],
   "source": [
    "# getting the mean of binomial distribution \n",
    "# n = 20 \n",
    "# p = 0.15 \n",
    "# On an average how many defective I will get\n",
    "binom.mean(20,0.15)"
   ]
  },
  {
   "cell_type": "code",
   "execution_count": 163,
   "metadata": {},
   "outputs": [
    {
     "data": {
      "text/plain": [
       "1.5968719422671311"
      ]
     },
     "execution_count": 163,
     "metadata": {},
     "output_type": "execute_result"
    }
   ],
   "source": [
    "binom.std(20,0.15)"
   ]
  },
  {
   "cell_type": "code",
   "execution_count": 164,
   "metadata": {},
   "outputs": [
    {
     "data": {
      "text/plain": [
       "2.55"
      ]
     },
     "execution_count": 164,
     "metadata": {},
     "output_type": "execute_result"
    }
   ],
   "source": [
    "binom.var(20,0.15)"
   ]
  },
  {
   "cell_type": "code",
   "execution_count": 165,
   "metadata": {},
   "outputs": [
    {
     "data": {
      "text/plain": [
       "0.5951037219925649"
      ]
     },
     "execution_count": 165,
     "metadata": {},
     "output_type": "execute_result"
    }
   ],
   "source": [
    "# Probability of getting more than 2 defective\n",
    "1 - binom.cdf(2,20, 0.15)"
   ]
  },
  {
   "cell_type": "code",
   "execution_count": 166,
   "metadata": {},
   "outputs": [
    {
     "data": {
      "text/plain": [
       "0.5951037219925652"
      ]
     },
     "execution_count": 166,
     "metadata": {},
     "output_type": "execute_result"
    }
   ],
   "source": [
    "# Probability of getting more than 2 defective\n",
    "# Using survival function sf\n",
    "binom.sf(2,20,0.15)"
   ]
  },
  {
   "cell_type": "code",
   "execution_count": 169,
   "metadata": {},
   "outputs": [
    {
     "data": {
      "text/plain": [
       "<matplotlib.axes._subplots.AxesSubplot at 0x179077199c8>"
      ]
     },
     "execution_count": 169,
     "metadata": {},
     "output_type": "execute_result"
    },
    {
     "data": {
      "image/png": "[encoded data removed]",
      "text/plain": [
       "<Figure size 432x288 with 1 Axes>"
      ]
     },
     "metadata": {},
     "output_type": "display_data"
    }
   ],
   "source": [
    "x_ax = np.arange(0,21)\n",
    "# exactly one defective\n",
    "#y_as = binom.pmf(1,20,0.15)\n",
    "# This iwll give us all the probabilities of getting defectives - 0,1,2,3,----20\n",
    "y_ax = binom.pmf(x_ax,20,0.15)\n",
    "sns.barplot(x_ax, y_ax)"
   ]
  },
  {
   "cell_type": "code",
   "execution_count": 170,
   "metadata": {},
   "outputs": [
    {
     "data": {
      "text/plain": [
       "<matplotlib.axes._subplots.AxesSubplot at 0x1790628d708>"
      ]
     },
     "execution_count": 170,
     "metadata": {},
     "output_type": "execute_result"
    },
    {
     "data": {
      "image/png": "[encoded data removed]",
      "text/plain": [
       "<Figure size 432x288 with 1 Axes>"
      ]
     },
     "metadata": {},
     "output_type": "display_data"
    }
   ],
   "source": [
    "# Probability of getting two or less defective, probability of getting 3 and less defective\n",
    "x_ax = np.arange(0,21)\n",
    "# exactly one defective\n",
    "#y_as = binom.cdf(1,20,0.15)\n",
    "# This iwll give us all the probabilities of getting defectives - 0,1,2,3,----20\n",
    "y_ax = binom.cdf(x_ax,20,0.15)\n",
    "sns.barplot(x_ax, y_ax)"
   ]
  },
  {
   "cell_type": "code",
   "execution_count": 3,
   "metadata": {},
   "outputs": [],
   "source": [
    "# Probability of getting 2 or less is 0.2"
   ]
  },
  {
   "cell_type": "markdown",
   "metadata": {},
   "source": [
    "# Poisson Distribution"
   ]
  },
  {
   "cell_type": "code",
   "execution_count": 7,
   "metadata": {},
   "outputs": [
    {
     "data": {
      "text/plain": [
       "4"
      ]
     },
     "execution_count": 7,
     "metadata": {},
     "output_type": "execute_result"
    }
   ],
   "source": [
    "#Generating Poisson Distribution randum number with lambda_ = 3.6\n",
    "np.random.poisson(3.6)"
   ]
  },
  {
   "cell_type": "code",
   "execution_count": 13,
   "metadata": {},
   "outputs": [
    {
     "data": {
      "text/plain": [
       "<matplotlib.axes._subplots.AxesSubplot at 0x2a32f080088>"
      ]
     },
     "execution_count": 13,
     "metadata": {},
     "output_type": "execute_result"
    },
    {
     "data": {
      "image/png": "[encoded data removed]",
      "text/plain": [
       "<Figure size 432x288 with 1 Axes>"
      ]
     },
     "metadata": {
      "needs_background": "light"
     },
     "output_type": "display_data"
    }
   ],
   "source": [
    "ax = np.random.poisson(3.6, 10000)\n",
    "sns.countplot(ax)\n",
    "# By looking at the plot we can say that there are 10 % chance that 1 person is in the que\n",
    "# 17.5% chance that 2 persons are in the queue\n",
    "# 20% chance that 2 persons are in the queue"
   ]
  },
  {
   "cell_type": "code",
   "execution_count": 14,
   "metadata": {},
   "outputs": [
    {
     "data": {
      "image/png": "[encoded data removed]",
      "text/plain": [
       "<Figure size 432x288 with 1 Axes>"
      ]
     },
     "metadata": {
      "needs_background": "light"
     },
     "output_type": "display_data"
    }
   ],
   "source": [
    "count, bins, ignored = plt.hist(ax, 14, density=True)"
   ]
  },
  {
   "cell_type": "code",
   "execution_count": 19,
   "metadata": {},
   "outputs": [],
   "source": [
    "# Using scipy .stats"
   ]
  },
  {
   "cell_type": "code",
   "execution_count": 22,
   "metadata": {},
   "outputs": [
    {
     "data": {
      "text/plain": [
       "0.04248414026930935"
      ]
     },
     "execution_count": 22,
     "metadata": {},
     "output_type": "execute_result"
    }
   ],
   "source": [
    "# On a booking counter an average 3.6 people come every 10 mins on weekends.\n",
    "# What is the probability of getting 7 people in 10 minutes?\n",
    "x = 7\n",
    "lambda_ = 3.6\n",
    "poisson.pmf(7, 3.6)\n",
    "# 424% chances"
   ]
  },
  {
   "cell_type": "code",
   "execution_count": 23,
   "metadata": {},
   "outputs": [],
   "source": [
    "# poisson.cdf - cumulative  distribution  function - For less than or equal to\n",
    "# poisson.pmf - Probability mass function - for exact value\n",
    "# poisson.sf - For more than  (1-cdf) used to find greater than sth\n",
    "# poissson.mean - for mean of the distribution\n",
    "# poisson.var - for variance of the distribution\n",
    "# poisson.std - for standard deviation o fthe distribtution"
   ]
  },
  {
   "cell_type": "code",
   "execution_count": 24,
   "metadata": {},
   "outputs": [
    {
     "data": {
      "text/plain": [
       "0.9692107246403425"
      ]
     },
     "execution_count": 24,
     "metadata": {},
     "output_type": "execute_result"
    }
   ],
   "source": [
    "# there are 7 or less people in the queue\n",
    "poisson.cdf(7,3.6)"
   ]
  },
  {
   "cell_type": "code",
   "execution_count": 26,
   "metadata": {},
   "outputs": [
    {
     "data": {
      "text/plain": [
       "0.030789275359657444"
      ]
     },
     "execution_count": 26,
     "metadata": {},
     "output_type": "execute_result"
    }
   ],
   "source": [
    "# Getting more than 7 people in the queue is \n",
    "poisson.sf(7,3.6)"
   ]
  },
  {
   "cell_type": "code",
   "execution_count": 28,
   "metadata": {},
   "outputs": [
    {
     "data": {
      "text/plain": [
       "3.6"
      ]
     },
     "execution_count": 28,
     "metadata": {},
     "output_type": "execute_result"
    }
   ],
   "source": [
    "poisson.mean(3.6)"
   ]
  },
  {
   "cell_type": "code",
   "execution_count": 29,
   "metadata": {},
   "outputs": [
    {
     "data": {
      "text/plain": [
       "3.6"
      ]
     },
     "execution_count": 29,
     "metadata": {},
     "output_type": "execute_result"
    }
   ],
   "source": [
    "poisson.var(3.6)"
   ]
  },
  {
   "cell_type": "code",
   "execution_count": 30,
   "metadata": {},
   "outputs": [
    {
     "data": {
      "text/plain": [
       "1.8973665961010275"
      ]
     },
     "execution_count": 30,
     "metadata": {},
     "output_type": "execute_result"
    }
   ],
   "source": [
    "poisson.std(3.6)"
   ]
  },
  {
   "cell_type": "code",
   "execution_count": 31,
   "metadata": {},
   "outputs": [],
   "source": [
    "# getting probabilities for 1, 2,3 4...10  perople in the queue\n",
    "x_ax = np.arange(0,11)"
   ]
  },
  {
   "cell_type": "code",
   "execution_count": 33,
   "metadata": {},
   "outputs": [],
   "source": [
    "# Poisson probilities for each of teh numbers  in array x_ax\n",
    "y_ax = poisson.pmf(x_ax, 3.6)"
   ]
  },
  {
   "cell_type": "code",
   "execution_count": 35,
   "metadata": {},
   "outputs": [
    {
     "data": {
      "text/plain": [
       "<matplotlib.axes._subplots.AxesSubplot at 0x2a32f12f208>"
      ]
     },
     "execution_count": 35,
     "metadata": {},
     "output_type": "execute_result"
    },
    {
     "data": {
      "image/png": "[encoded data removed]",
      "text/plain": [
       "<Figure size 432x288 with 1 Axes>"
      ]
     },
     "metadata": {
      "needs_background": "light"
     },
     "output_type": "display_data"
    }
   ],
   "source": [
    "# Getting probabilites for 0, 1, 2, 3...10\n",
    "sns.barplot(x = x_ax, y = y_ax)"
   ]
  },
  {
   "cell_type": "code",
   "execution_count": 37,
   "metadata": {},
   "outputs": [
    {
     "data": {
      "text/plain": [
       "<matplotlib.axes._subplots.AxesSubplot at 0x2a32f99e788>"
      ]
     },
     "execution_count": 37,
     "metadata": {},
     "output_type": "execute_result"
    },
    {
     "data": {
      "image/png": "[encoded data removed]",
      "text/plain": [
       "<Figure size 432x288 with 1 Axes>"
      ]
     },
     "metadata": {
      "needs_background": "light"
     },
     "output_type": "display_data"
    }
   ],
   "source": [
    "x_ax = np.arange(0,21)\n",
    "y_ax = poisson.pmf(x_ax, 3.6)\n",
    "sns.barplot(x= x_ax, y = y_ax)"
   ]
  },
  {
   "cell_type": "code",
   "execution_count": 38,
   "metadata": {},
   "outputs": [
    {
     "data": {
      "text/plain": [
       "<matplotlib.axes._subplots.AxesSubplot at 0x2a32fbbd4c8>"
      ]
     },
     "execution_count": 38,
     "metadata": {},
     "output_type": "execute_result"
    },
    {
     "data": {
      "image/png": "[encoded data removed]",
      "text/plain": [
       "<Figure size 432x288 with 1 Axes>"
      ]
     },
     "metadata": {
      "needs_background": "light"
     },
     "output_type": "display_data"
    }
   ],
   "source": [
    "y_ax = poisson.cdf(x_ax, 3.6)\n",
    "sns.barplot(x = x_ax, y = y_ax)"
   ]
  },
  {
   "cell_type": "markdown",
   "metadata": {},
   "source": [
    "# Normal Distribution"
   ]
  },
  {
   "cell_type": "code",
   "execution_count": 39,
   "metadata": {},
   "outputs": [
    {
     "data": {
      "text/plain": [
       "99.08312424872771"
      ]
     },
     "execution_count": 39,
     "metadata": {},
     "output_type": "execute_result"
    }
   ],
   "source": [
    "# Creating normal random number with mean = 100 & std = 5\n",
    "np.random.normal(100,5)"
   ]
  },
  {
   "cell_type": "code",
   "execution_count": 57,
   "metadata": {},
   "outputs": [
    {
     "data": {
      "text/plain": [
       "<matplotlib.axes._subplots.AxesSubplot at 0x2a331522c88>"
      ]
     },
     "execution_count": 57,
     "metadata": {},
     "output_type": "execute_result"
    },
    {
     "data": {
      "image/png": "[encoded data removed]",
      "text/plain": [
       "<Figure size 432x288 with 1 Axes>"
      ]
     },
     "metadata": {},
     "output_type": "display_data"
    }
   ],
   "source": [
    "# (hist_kws={\"histtype\": \"step\", \"linewidth\": 3, \"alpha\": 1, \"color\": \"g\"})\n",
    "# with size = 1000\n",
    "sns.set_style('whitegrid')\n",
    "ax = np.random.normal(100,5,1000)\n",
    "sns.distplot(ax, bins = 30,hist_kws={'edgecolor':'k', \"color\": \"g\"})\n",
    "# Normal curve with most of the values in the middle and very less at the edges"
   ]
  },
  {
   "cell_type": "code",
   "execution_count": 65,
   "metadata": {},
   "outputs": [
    {
     "data": {
      "text/plain": [
       "<matplotlib.axes._subplots.AxesSubplot at 0x2a32d55f148>"
      ]
     },
     "execution_count": 65,
     "metadata": {},
     "output_type": "execute_result"
    },
    {
     "data": {
      "image/png": "[encoded data removed]",
      "text/plain": [
       "<Figure size 432x288 with 1 Axes>"
      ]
     },
     "metadata": {},
     "output_type": "display_data"
    }
   ],
   "source": [
    "# (hist_kws={\"histtype\": \"step\", \"linewidth\": 3, \"alpha\": 1, \"color\": \"g\"})\n",
    "# with size = 1000\n",
    "sns.set_style('whitegrid')\n",
    "ax = np.random.normal(100,2,10000000)\n",
    "sns.distplot(ax, kde = True)\n",
    "# Normal curve with most of the values in the middle and very less at the edges"
   ]
  },
  {
   "cell_type": "code",
   "execution_count": 47,
   "metadata": {},
   "outputs": [
    {
     "data": {
      "text/plain": [
       "array([[<matplotlib.axes._subplots.AxesSubplot object at 0x000002A330166F88>]],\n",
       "      dtype=object)"
      ]
     },
     "execution_count": 47,
     "metadata": {},
     "output_type": "execute_result"
    },
    {
     "data": {
      "image/png": "[encoded data removed]",
      "text/plain": [
       "<Figure size 432x288 with 1 Axes>"
      ]
     },
     "metadata": {
      "needs_background": "light"
     },
     "output_type": "display_data"
    }
   ],
   "source": [
    "import pandas as pd\n",
    "pd.DataFrame(ax).hist()"
   ]
  },
  {
   "cell_type": "code",
   "execution_count": 49,
   "metadata": {},
   "outputs": [
    {
     "data": {
      "text/plain": [
       "<matplotlib.axes._subplots.AxesSubplot at 0x2a32c54f848>"
      ]
     },
     "execution_count": 49,
     "metadata": {},
     "output_type": "execute_result"
    },
    {
     "data": {
      "image/png": "[encoded data removed]",
      "text/plain": [
       "<Figure size 432x288 with 1 Axes>"
      ]
     },
     "metadata": {
      "needs_background": "light"
     },
     "output_type": "display_data"
    }
   ],
   "source": [
    "pd.DataFrame(ax).plot.hist()"
   ]
  },
  {
   "cell_type": "code",
   "execution_count": 68,
   "metadata": {},
   "outputs": [
    {
     "data": {
      "text/plain": [
       "<matplotlib.axes._subplots.AxesSubplot at 0x2a331e1c208>"
      ]
     },
     "execution_count": 68,
     "metadata": {},
     "output_type": "execute_result"
    },
    {
     "data": {
      "image/png": "[encoded data removed]",
      "text/plain": [
       "<Figure size 432x288 with 1 Axes>"
      ]
     },
     "metadata": {},
     "output_type": "display_data"
    }
   ],
   "source": [
    "# (hist_kws={\"histtype\": \"step\", \"linewidth\": 3, \"alpha\": 1, \"color\": \"g\"})\n",
    "# with size = 1000\n",
    "sns.set_style('whitegrid')\n",
    "ax = np.random.normal(100,2,1000)\n",
    "sns.distplot(ax, kde = True)\n",
    "# Normal curve with most of the values in the middle and very less at the edges\n",
    "# mu = 100\n",
    "# std = 2\n",
    "# We will see now 68.2 percent of values are between 2 sigma"
   ]
  },
  {
   "cell_type": "code",
   "execution_count": 70,
   "metadata": {},
   "outputs": [
    {
     "data": {
      "text/plain": [
       "851"
      ]
     },
     "execution_count": 70,
     "metadata": {},
     "output_type": "execute_result"
    }
   ],
   "source": [
    "#ax >98\n",
    "\n",
    "sum(ax >98)\n"
   ]
  },
  {
   "cell_type": "code",
   "execution_count": 71,
   "metadata": {},
   "outputs": [
    {
     "data": {
      "text/plain": [
       "85.1"
      ]
     },
     "execution_count": 71,
     "metadata": {},
     "output_type": "execute_result"
    }
   ],
   "source": [
    "(851/1000)*100\n",
    "# 85.1% is towards the right of 1 sigma"
   ]
  },
  {
   "cell_type": "code",
   "execution_count": 72,
   "metadata": {},
   "outputs": [
    {
     "data": {
      "text/plain": [
       "827"
      ]
     },
     "execution_count": 72,
     "metadata": {},
     "output_type": "execute_result"
    }
   ],
   "source": [
    "# ax <102\n",
    "sum(ax<102)"
   ]
  },
  {
   "cell_type": "code",
   "execution_count": 73,
   "metadata": {},
   "outputs": [
    {
     "data": {
      "text/plain": [
       "82.69999999999999"
      ]
     },
     "execution_count": 73,
     "metadata": {},
     "output_type": "execute_result"
    }
   ],
   "source": [
    "(827/1000)*100"
   ]
  },
  {
   "cell_type": "code",
   "execution_count": 74,
   "metadata": {},
   "outputs": [
    {
     "data": {
      "text/plain": [
       "678"
      ]
     },
     "execution_count": 74,
     "metadata": {},
     "output_type": "execute_result"
    }
   ],
   "source": [
    "# Area between +1 sigma & -1 sigma\n",
    "sum((ax>98) & (ax<102))"
   ]
  },
  {
   "cell_type": "code",
   "execution_count": 75,
   "metadata": {},
   "outputs": [
    {
     "data": {
      "text/plain": [
       "67.80000000000001"
      ]
     },
     "execution_count": 75,
     "metadata": {},
     "output_type": "execute_result"
    }
   ],
   "source": [
    "(678/1000)*100"
   ]
  },
  {
   "cell_type": "code",
   "execution_count": 76,
   "metadata": {},
   "outputs": [
    {
     "data": {
      "text/plain": [
       "959"
      ]
     },
     "execution_count": 76,
     "metadata": {},
     "output_type": "execute_result"
    }
   ],
   "source": [
    "# Area between +2 sigma & -2 sigma\n",
    "sum((ax>96) & (ax<104))"
   ]
  },
  {
   "cell_type": "code",
   "execution_count": 77,
   "metadata": {},
   "outputs": [
    {
     "data": {
      "text/plain": [
       "95.89999999999999"
      ]
     },
     "execution_count": 77,
     "metadata": {},
     "output_type": "execute_result"
    }
   ],
   "source": [
    "959/1000*100"
   ]
  },
  {
   "cell_type": "code",
   "execution_count": 78,
   "metadata": {},
   "outputs": [
    {
     "data": {
      "text/plain": [
       "997"
      ]
     },
     "execution_count": 78,
     "metadata": {},
     "output_type": "execute_result"
    }
   ],
   "source": [
    "# Area between +3 sigma & -3 sigma\n",
    "sum((ax>94) & (ax<106))"
   ]
  },
  {
   "cell_type": "code",
   "execution_count": 79,
   "metadata": {},
   "outputs": [
    {
     "data": {
      "text/plain": [
       "99.7"
      ]
     },
     "execution_count": 79,
     "metadata": {},
     "output_type": "execute_result"
    }
   ],
   "source": [
    "997/1000*100"
   ]
  },
  {
   "cell_type": "code",
   "execution_count": 82,
   "metadata": {},
   "outputs": [
    {
     "data": {
      "text/plain": [
       "0.06680720126885807"
      ]
     },
     "execution_count": 82,
     "metadata": {},
     "output_type": "execute_result"
    }
   ],
   "source": [
    "# Perfume bottles are filled with avg. volumn of 150cc & standard deviation of 2cc. \n",
    "# What percent of bottles will have a volumn greater than 153cc\n",
    "# SF - survival function is used for greater than sth\n",
    "norm.sf(153,150,2)"
   ]
  },
  {
   "cell_type": "code",
   "execution_count": 83,
   "metadata": {},
   "outputs": [
    {
     "data": {
      "text/plain": [
       "0.6826894921370859"
      ]
     },
     "execution_count": 83,
     "metadata": {},
     "output_type": "execute_result"
    }
   ],
   "source": [
    "# Perfume bottles are filled with avg. volumn of 150cc & standard deviation of 2cc. \n",
    "# What percent of bottles will have a volumn between 148 & 152cc\n",
    "# SF - survival function is used for greater than sth\n",
    "norm.sf(148,150,2) - norm.sf(152,150,2)"
   ]
  },
  {
   "cell_type": "markdown",
   "metadata": {},
   "source": [
    "GMAT <br>\n",
    "Mean = 711<br>\n",
    "Standard Deviation =29<br>\n",
    "What is the p(x<=680)<br>\n",
    "What is the p(660<=x<=780)<br>"
   ]
  },
  {
   "cell_type": "code",
   "execution_count": 85,
   "metadata": {},
   "outputs": [
    {
     "data": {
      "text/plain": [
       "0.14254260383881612"
      ]
     },
     "execution_count": 85,
     "metadata": {},
     "output_type": "execute_result"
    }
   ],
   "source": [
    "# What is the p(x<=680)\n",
    "# CDF for less than\n",
    "norm.cdf(680,711,29)"
   ]
  },
  {
   "cell_type": "code",
   "execution_count": 86,
   "metadata": {},
   "outputs": [
    {
     "data": {
      "text/plain": [
       "0.8574573961611839"
      ]
     },
     "execution_count": 86,
     "metadata": {},
     "output_type": "execute_result"
    }
   ],
   "source": [
    "# What is the p(x>680)\n",
    "# sf - greater than\n",
    "norm.sf(680,711,29)"
   ]
  },
  {
   "cell_type": "code",
   "execution_count": 88,
   "metadata": {},
   "outputs": [
    {
     "data": {
      "text/plain": [
       "0.8487848631543883"
      ]
     },
     "execution_count": 88,
     "metadata": {},
     "output_type": "execute_result"
    }
   ],
   "source": [
    "# between 660 & 780\n",
    "norm.sf(680,711,29) - norm.sf(780,711,29)"
   ]
  },
  {
   "cell_type": "code",
   "execution_count": 99,
   "metadata": {},
   "outputs": [
    {
     "data": {
      "text/plain": [
       "<matplotlib.lines.Line2D at 0x2a334582548>"
      ]
     },
     "execution_count": 99,
     "metadata": {},
     "output_type": "execute_result"
    },
    {
     "data": {
      "image/png": "[encoded data removed]",
      "text/plain": [
       "<Figure size 432x288 with 1 Axes>"
      ]
     },
     "metadata": {},
     "output_type": "display_data"
    }
   ],
   "source": [
    "x_ax = np.linspace(600, 800, 1000)\n",
    "y_ax = norm.pdf(x_ax, 711,29)\n",
    "sns.lineplot(x = x_ax, y = y_ax)\n",
    "plt.axvline(780 , color = 'red')\n",
    "plt.axvline(680)"
   ]
  },
  {
   "cell_type": "code",
   "execution_count": null,
   "metadata": {},
   "outputs": [],
   "source": []
  },
  {
   "cell_type": "code",
   "execution_count": null,
   "metadata": {},
   "outputs": [],
   "source": []
  },
  {
   "cell_type": "code",
   "execution_count": 90,
   "metadata": {},
   "outputs": [
    {
     "data": {
      "text/plain": [
       "array([144., 145., 146., 147., 148., 149., 150., 151., 152., 153., 154.,\n",
       "       155., 156.])"
      ]
     },
     "execution_count": 90,
     "metadata": {},
     "output_type": "execute_result"
    }
   ],
   "source": [
    "# Plot where mean is 150 and std is 2\n",
    "# plot between - 3 stdev\n",
    "x_ax = np.linspace(144, 156, 13)\n",
    "x_ax"
   ]
  },
  {
   "cell_type": "code",
   "execution_count": 91,
   "metadata": {},
   "outputs": [],
   "source": [
    "y_ax = norm.pdf(x_ax, 150,2)\n",
    "\n",
    "               "
   ]
  },
  {
   "cell_type": "code",
   "execution_count": 92,
   "metadata": {},
   "outputs": [
    {
     "data": {
      "text/plain": [
       "<matplotlib.axes._subplots.AxesSubplot at 0x2a33401a588>"
      ]
     },
     "execution_count": 92,
     "metadata": {},
     "output_type": "execute_result"
    },
    {
     "data": {
      "image/png": "[encoded data removed]",
      "text/plain": [
       "<Figure size 432x288 with 1 Axes>"
      ]
     },
     "metadata": {},
     "output_type": "display_data"
    }
   ],
   "source": [
    "sns.lineplot(x = x_ax, y = y_ax)"
   ]
  },
  {
   "cell_type": "code",
   "execution_count": 94,
   "metadata": {},
   "outputs": [
    {
     "data": {
      "text/plain": [
       "<matplotlib.lines.Line2D at 0x2a333decdc8>"
      ]
     },
     "execution_count": 94,
     "metadata": {},
     "output_type": "execute_result"
    },
    {
     "data": {
      "image/png": "[encoded data removed]",
      "text/plain": [
       "<Figure size 432x288 with 1 Axes>"
      ]
     },
     "metadata": {},
     "output_type": "display_data"
    }
   ],
   "source": [
    "# to get the smoother curve\n",
    "# Plot where mean is 150 and std is 2\n",
    "# plot between - 3 stdev\n",
    "x_ax = np.linspace(144, 156, 1000)\n",
    "y_ax = norm.pdf(x_ax, 150,2)\n",
    "sns.lineplot(x = x_ax, y = y_ax)\n",
    "plt.axvline(153)"
   ]
  },
  {
   "cell_type": "code",
   "execution_count": null,
   "metadata": {},
   "outputs": [],
   "source": []
  }
 ],
 "metadata": {
  "kernelspec": {
   "display_name": "Python 3",
   "language": "python",
   "name": "python3"
  },
  "language_info": {
   "codemirror_mode": {
    "name": "ipython",
    "version": 3
   },
   "file_extension": ".py",
   "mimetype": "text/x-python",
   "name": "python",
   "nbconvert_exporter": "python",
   "pygments_lexer": "ipython3",
   "version": "3.8.5"
  }
 },
 "nbformat": 4,
 "nbformat_minor": 2
}
